{
 "cells": [
  {
   "cell_type": "markdown",
   "metadata": {},
   "source": [
    "# Lecture 19: Convolutional Neural Networks in Keras\n",
    "***\n",
    "\n",
    "![digits](figs/mnist.png \"mnist data\")\n",
    "\n",
    "\n",
    "***\n",
    "\n",
    "In this notebook we'll experiment with using Keras and convolutional neural networks to classify handwritten digits from the MNIST data set.  \n",
    "\n",
    "### Problem 1: Setup and Data Exploration  \n",
    "***\n",
    "\n",
    "If you do not have Keras installed on your machine, you can do this quickly and easily.  \n",
    "\n",
    "In MacOS or Linux you can install Keras using "
   ]
  },
  {
   "cell_type": "code",
   "execution_count": null,
   "metadata": {
    "collapsed": true
   },
   "outputs": [],
   "source": [
    "conda install -c conda-forge keras "
   ]
  },
  {
   "cell_type": "markdown",
   "metadata": {},
   "source": [
    "If you're running Windows then you can install Keras from the `conda prompt` with "
   ]
  },
  {
   "cell_type": "code",
   "execution_count": null,
   "metadata": {
    "collapsed": true
   },
   "outputs": [],
   "source": [
    "conda install --channel https://conda.anaconda.org/conda-forge keras"
   ]
  },
  {
   "cell_type": "markdown",
   "metadata": {},
   "source": [
    "**Part A**: First, we'll load the MNIST data directly from Keras. "
   ]
  },
  {
   "cell_type": "code",
   "execution_count": 1,
   "metadata": {
    "ExecuteTime": {
     "end_time": "2018-04-09T19:30:50.951759Z",
     "start_time": "2018-04-09T19:30:48.326843Z"
    }
   },
   "outputs": [
    {
     "name": "stderr",
     "output_type": "stream",
     "text": [
      "Using TensorFlow backend.\n"
     ]
    },
    {
     "name": "stdout",
     "output_type": "stream",
     "text": [
      "Downloading data from https://s3.amazonaws.com/img-datasets/mnist.npz\n",
      "11493376/11490434 [==============================] - 5s 0us/step\n"
     ]
    }
   ],
   "source": [
    "from keras.datasets import mnist\n",
    "\n",
    "(X_train, y_train), (X_valid, y_valid) = mnist.load_data()"
   ]
  },
  {
   "cell_type": "markdown",
   "metadata": {},
   "source": [
    "Note that the data is already partitioned into training and validation sets.  Because training CNNs is a time-intensive process, we'll reduce the size of both data sets so that they're more manageable. "
   ]
  },
  {
   "cell_type": "code",
   "execution_count": 2,
   "metadata": {
    "ExecuteTime": {
     "end_time": "2018-04-09T19:30:52.522296Z",
     "start_time": "2018-04-09T19:30:52.518280Z"
    },
    "collapsed": true
   },
   "outputs": [],
   "source": [
    "num_train, num_valid = 5000, 1000\n",
    "\n",
    "X_train = X_train[:num_train]\n",
    "y_train = y_train[:num_train]\n",
    "X_valid = X_valid[:num_valid]\n",
    "y_valid = y_valid[:num_valid]"
   ]
  },
  {
   "cell_type": "markdown",
   "metadata": {},
   "source": [
    "**Q**: What are the shape and dimensions of the data? "
   ]
  },
  {
   "cell_type": "code",
   "execution_count": 4,
   "metadata": {},
   "outputs": [
    {
     "name": "stdout",
     "output_type": "stream",
     "text": [
      "(5000, 28, 28) (5000,) (1000, 28, 28) (1000,)\n"
     ]
    }
   ],
   "source": [
    "print(X_train.shape, y_train.shape, X_valid.shape, y_valid.shape)"
   ]
  },
  {
   "cell_type": "markdown",
   "metadata": {},
   "source": [
    "**Part B**: When working with CNNs we need to reshape our data to conform to general image types, which typically have multiple color bands.  We need to reshape the data arrays to have 4 dimensions, where the additional data corresponds to a single color band.  How we do this will depend on whether we're using `Theano` or `TensorFlow` as the Keras backed.  "
   ]
  },
  {
   "cell_type": "code",
   "execution_count": 5,
   "metadata": {
    "ExecuteTime": {
     "end_time": "2018-04-09T19:30:56.171784Z",
     "start_time": "2018-04-09T19:30:56.158394Z"
    }
   },
   "outputs": [
    {
     "name": "stdout",
     "output_type": "stream",
     "text": [
      "new data dimension:  (5000, 28, 28, 1)\n"
     ]
    }
   ],
   "source": [
    "from keras import backend as K\n",
    "\n",
    "# set the size of the images \n",
    "img_rows, img_cols = 28, 28\n",
    "\n",
    "# Add the color-band dimension either before or after the image dimensions \n",
    "if K.image_data_format() == 'channels_first':\n",
    "    X_train = X_train.reshape(X_train.shape[0], 1, img_rows, img_cols)\n",
    "    X_valid = X_valid.reshape(X_valid.shape[0], 1, img_rows, img_cols)\n",
    "    input_shape = (1, img_rows, img_cols)\n",
    "else:\n",
    "    X_train = X_train.reshape(X_train.shape[0], img_rows, img_cols, 1)\n",
    "    X_valid = X_valid.reshape(X_valid.shape[0], img_rows, img_cols, 1)\n",
    "    input_shape = (img_rows, img_cols, 1)\n",
    "    \n",
    "print(\"new data dimension: \", X_train.shape)"
   ]
  },
  {
   "cell_type": "markdown",
   "metadata": {},
   "source": [
    "We'll also normalize the pixel data so that intensities fall between $[0,1]$ instead of $[0,255]$. "
   ]
  },
  {
   "cell_type": "code",
   "execution_count": 6,
   "metadata": {
    "ExecuteTime": {
     "end_time": "2018-04-09T19:30:57.806128Z",
     "start_time": "2018-04-09T19:30:57.783723Z"
    },
    "collapsed": true
   },
   "outputs": [],
   "source": [
    "X_train = X_train.astype('float32') / 255.0 \n",
    "X_valid = X_valid.astype('float32') / 255.0 "
   ]
  },
  {
   "cell_type": "markdown",
   "metadata": {},
   "source": [
    "**Part C**: Finally, we need to modify the data labels so that they correspond to one-hot-encoded labels.  Luckily, Keras has a function to do this for us automatically. "
   ]
  },
  {
   "cell_type": "code",
   "execution_count": 7,
   "metadata": {
    "ExecuteTime": {
     "end_time": "2018-04-09T19:31:15.229278Z",
     "start_time": "2018-04-09T19:31:15.218645Z"
    }
   },
   "outputs": [
    {
     "name": "stdout",
     "output_type": "stream",
     "text": [
      "example one-hot-encoded labels: \n",
      "digit label: 5, one-hot-label: [ 0.  0.  0.  0.  0.  1.  0.  0.  0.  0.]\n",
      "digit label: 0, one-hot-label: [ 1.  0.  0.  0.  0.  0.  0.  0.  0.  0.]\n",
      "digit label: 4, one-hot-label: [ 0.  0.  0.  0.  1.  0.  0.  0.  0.  0.]\n"
     ]
    }
   ],
   "source": [
    "import numpy as np\n",
    "\n",
    "from keras.utils import np_utils \n",
    "\n",
    "num_classes = len(np.unique(y_train))\n",
    "\n",
    "y_train_onehot = np_utils.to_categorical(y_train, num_classes) \n",
    "y_valid_onehot = np_utils.to_categorical(y_valid, num_classes) \n",
    "\n",
    "print(\"example one-hot-encoded labels: \")\n",
    "for ii in range(3):\n",
    "    print(\"digit label: {:d}, one-hot-label: {}\".format(y_train[ii], y_train_onehot[ii]))"
   ]
  },
  {
   "cell_type": "markdown",
   "metadata": {},
   "source": [
    "**Part D**: Finally, let's look at a few of the images, just to make sure we haven't messed anything up."
   ]
  },
  {
   "cell_type": "code",
   "execution_count": 8,
   "metadata": {
    "ExecuteTime": {
     "end_time": "2018-04-09T19:31:33.014786Z",
     "start_time": "2018-04-09T19:31:32.551077Z"
    }
   },
   "outputs": [
    {
     "data": {
      "image/png": "[encoded data removed]",
      "text/plain": [
       "<matplotlib.figure.Figure at 0x110cadac8>"
      ]
     },
     "metadata": {},
     "output_type": "display_data"
    }
   ],
   "source": [
    "import matplotlib.pylab as plt\n",
    "%matplotlib inline\n",
    "\n",
    "fig, axes = plt.subplots(nrows=1, ncols=3, figsize=(6,3))\n",
    "for ii, ax in enumerate(axes):\n",
    "    if K.image_data_format() == 'channels_first':\n",
    "        ax.imshow(X_train[ii,0,:,:], cmap='gray')\n",
    "    else:\n",
    "        ax.imshow(X_train[ii,:,:,0], cmap='gray')\n",
    "    ax.set_title(\"Ground Truth : {:d}\".format(y_train[ii]))\n",
    "    ax.axis('off')"
   ]
  },
  {
   "cell_type": "markdown",
   "metadata": {},
   "source": [
    "### Problem 2: Our First Simple CNN\n",
    "***\n",
    "\n",
    "**Part A**: We will train a CNN with the following architecture.  Note that we're just working from good starting points here.  In practice we would want to spend time analyzing and evaluating multiple architectures, activations, and hyperparameters. \n",
    "\n",
    "Our CNN will be comprised of \n",
    "\n",
    "- 3 Convolutional Layers of increasing number of filters, each followed by a MaxPool Layer \n",
    "- A Dense hidden layer with 128 neurons and a linear activation function \n",
    "- An output layer with softmax activation \n",
    "\n",
    "First, we need to load all of the necessary modules from Keras "
   ]
  },
  {
   "cell_type": "code",
   "execution_count": 9,
   "metadata": {
    "ExecuteTime": {
     "end_time": "2018-04-09T19:31:36.363548Z",
     "start_time": "2018-04-09T19:31:36.357864Z"
    },
    "collapsed": true
   },
   "outputs": [],
   "source": [
    "import keras\n",
    "\n",
    "from keras.models import Sequential,Input,Model\n",
    "from keras.layers import Dense, Dropout, Flatten\n",
    "from keras.layers import Conv2D, MaxPooling2D\n",
    "from keras.layers.normalization import BatchNormalization\n",
    "from keras.layers.advanced_activations import LeakyReLU"
   ]
  },
  {
   "cell_type": "markdown",
   "metadata": {},
   "source": [
    "Additionally, we need to define certain hyperparameter like batch_size, number of epochs, etc"
   ]
  },
  {
   "cell_type": "code",
   "execution_count": 10,
   "metadata": {
    "ExecuteTime": {
     "end_time": "2018-04-09T19:31:37.861206Z",
     "start_time": "2018-04-09T19:31:37.858457Z"
    },
    "collapsed": true
   },
   "outputs": [],
   "source": [
    "batch_size = 64 \n",
    "num_epochs = 20 "
   ]
  },
  {
   "cell_type": "markdown",
   "metadata": {},
   "source": [
    "Finally, we initialize a model and start adding layers "
   ]
  },
  {
   "cell_type": "code",
   "execution_count": 11,
   "metadata": {
    "ExecuteTime": {
     "end_time": "2018-04-09T19:31:39.174050Z",
     "start_time": "2018-04-09T19:31:39.078091Z"
    },
    "collapsed": true
   },
   "outputs": [],
   "source": [
    "# initialize model \n",
    "simple_model = Sequential()\n",
    "\n",
    "# Convolutional layer with 32 3x3 filters followed by 2x2 MaxPool \n",
    "simple_model.add(Conv2D(32, kernel_size=(3, 3),activation='relu',input_shape=input_shape,padding='same'))\n",
    "simple_model.add(MaxPooling2D((2, 2),padding='same'))\n",
    "\n",
    "# Convolutional layer with 64 3x3 filters followed by 2x2 MaxPool \n",
    "simple_model.add(Conv2D(64, (3, 3), activation='relu',padding='same'))\n",
    "simple_model.add(MaxPooling2D(pool_size=(2, 2),padding='same'))\n",
    "\n",
    "# Convolutional layer with 128 3x3 filters followed by 2x2 MaxPool \n",
    "simple_model.add(Conv2D(128, (3, 3), activation='relu',padding='same'))\n",
    "simple_model.add(MaxPooling2D(pool_size=(2, 2),padding='same'))\n",
    "\n",
    "# Flatten and feed into dense layer \n",
    "simple_model.add(Flatten())\n",
    "simple_model.add(Dense(128, activation='relu'))\n",
    "\n",
    "# Output layer \n",
    "simple_model.add(Dense(num_classes, activation='softmax'))"
   ]
  },
  {
   "cell_type": "markdown",
   "metadata": {},
   "source": [
    "Finally, we have to specify the loss function and solver we'll use during training, as well as the metric that we want reported to us throughout the process. "
   ]
  },
  {
   "cell_type": "code",
   "execution_count": 12,
   "metadata": {
    "ExecuteTime": {
     "end_time": "2018-04-09T19:31:44.895645Z",
     "start_time": "2018-04-09T19:31:44.882992Z"
    },
    "collapsed": true
   },
   "outputs": [],
   "source": [
    "loss = keras.losses.categorical_crossentropy\n",
    "optimizer = keras.optimizers.Adam()\n",
    "metrics = [\"accuracy\"]"
   ]
  },
  {
   "cell_type": "markdown",
   "metadata": {},
   "source": [
    "And now we tell Keras to compile the model"
   ]
  },
  {
   "cell_type": "code",
   "execution_count": 13,
   "metadata": {
    "ExecuteTime": {
     "end_time": "2018-04-09T19:31:46.074939Z",
     "start_time": "2018-04-09T19:31:46.054488Z"
    },
    "collapsed": true
   },
   "outputs": [],
   "source": [
    "simple_model.compile(loss=loss, optimizer=optimizer, metrics=metrics)"
   ]
  },
  {
   "cell_type": "markdown",
   "metadata": {},
   "source": [
    "Once our model is set, Keras can print a nice summary for us "
   ]
  },
  {
   "cell_type": "code",
   "execution_count": 14,
   "metadata": {
    "ExecuteTime": {
     "end_time": "2018-04-09T19:31:47.753101Z",
     "start_time": "2018-04-09T19:31:47.745997Z"
    }
   },
   "outputs": [
    {
     "name": "stdout",
     "output_type": "stream",
     "text": [
      "_________________________________________________________________\n",
      "Layer (type)                 Output Shape              Param #   \n",
      "=================================================================\n",
      "conv2d_1 (Conv2D)            (None, 28, 28, 32)        320       \n",
      "_________________________________________________________________\n",
      "max_pooling2d_1 (MaxPooling2 (None, 14, 14, 32)        0         \n",
      "_________________________________________________________________\n",
      "conv2d_2 (Conv2D)            (None, 14, 14, 64)        18496     \n",
      "_________________________________________________________________\n",
      "max_pooling2d_2 (MaxPooling2 (None, 7, 7, 64)          0         \n",
      "_________________________________________________________________\n",
      "conv2d_3 (Conv2D)            (None, 7, 7, 128)         73856     \n",
      "_________________________________________________________________\n",
      "max_pooling2d_3 (MaxPooling2 (None, 4, 4, 128)         0         \n",
      "_________________________________________________________________\n",
      "flatten_1 (Flatten)          (None, 2048)              0         \n",
      "_________________________________________________________________\n",
      "dense_1 (Dense)              (None, 128)               262272    \n",
      "_________________________________________________________________\n",
      "dense_2 (Dense)              (None, 10)                1290      \n",
      "=================================================================\n",
      "Total params: 356,234\n",
      "Trainable params: 356,234\n",
      "Non-trainable params: 0\n",
      "_________________________________________________________________\n"
     ]
    }
   ],
   "source": [
    "simple_model.summary()"
   ]
  },
  {
   "cell_type": "markdown",
   "metadata": {},
   "source": [
    "**Part B**: Now we're ready to actually train the model! You might want to grab a magazine or something because this'll take a minute!   "
   ]
  },
  {
   "cell_type": "code",
   "execution_count": 15,
   "metadata": {
    "ExecuteTime": {
     "end_time": "2018-04-09T19:32:16.018342Z",
     "start_time": "2018-04-09T19:31:50.406762Z"
    }
   },
   "outputs": [
    {
     "name": "stdout",
     "output_type": "stream",
     "text": [
      "Train on 5000 samples, validate on 1000 samples\n",
      "Epoch 1/20\n",
      "5000/5000 [==============================] - 9s 2ms/step - loss: 0.8163 - acc: 0.7448 - val_loss: 0.3208 - val_acc: 0.9050\n",
      "Epoch 2/20\n",
      "5000/5000 [==============================] - 8s 2ms/step - loss: 0.1805 - acc: 0.9446 - val_loss: 0.1357 - val_acc: 0.9480\n",
      "Epoch 3/20\n",
      "5000/5000 [==============================] - 9s 2ms/step - loss: 0.0999 - acc: 0.9680 - val_loss: 0.1378 - val_acc: 0.9540\n",
      "Epoch 4/20\n",
      "5000/5000 [==============================] - 8s 2ms/step - loss: 0.0943 - acc: 0.9720 - val_loss: 0.0816 - val_acc: 0.9670\n",
      "Epoch 5/20\n",
      "5000/5000 [==============================] - 8s 2ms/step - loss: 0.0430 - acc: 0.9878 - val_loss: 0.1076 - val_acc: 0.9590\n",
      "Epoch 6/20\n",
      "5000/5000 [==============================] - 9s 2ms/step - loss: 0.0545 - acc: 0.9806 - val_loss: 0.0911 - val_acc: 0.9640\n",
      "Epoch 7/20\n",
      "5000/5000 [==============================] - 8s 2ms/step - loss: 0.0304 - acc: 0.9914 - val_loss: 0.1002 - val_acc: 0.9650\n",
      "Epoch 8/20\n",
      "5000/5000 [==============================] - 9s 2ms/step - loss: 0.0252 - acc: 0.9918 - val_loss: 0.0786 - val_acc: 0.9740\n",
      "Epoch 9/20\n",
      "5000/5000 [==============================] - 8s 2ms/step - loss: 0.0128 - acc: 0.9970 - val_loss: 0.0915 - val_acc: 0.9730\n",
      "Epoch 10/20\n",
      "5000/5000 [==============================] - 8s 2ms/step - loss: 0.0119 - acc: 0.9962 - val_loss: 0.0696 - val_acc: 0.9770\n",
      "Epoch 11/20\n",
      "5000/5000 [==============================] - 9s 2ms/step - loss: 0.0124 - acc: 0.9958 - val_loss: 0.0782 - val_acc: 0.9750\n",
      "Epoch 12/20\n",
      "5000/5000 [==============================] - 9s 2ms/step - loss: 0.0100 - acc: 0.9968 - val_loss: 0.0706 - val_acc: 0.9800\n",
      "Epoch 13/20\n",
      "5000/5000 [==============================] - 9s 2ms/step - loss: 0.0239 - acc: 0.9922 - val_loss: 0.0862 - val_acc: 0.9720\n",
      "Epoch 14/20\n",
      "5000/5000 [==============================] - 9s 2ms/step - loss: 0.0082 - acc: 0.9988 - val_loss: 0.0674 - val_acc: 0.9790\n",
      "Epoch 15/20\n",
      "5000/5000 [==============================] - 8s 2ms/step - loss: 0.0017 - acc: 0.9996 - val_loss: 0.0588 - val_acc: 0.9780- loss: 0.0018 - acc\n",
      "Epoch 16/20\n",
      "5000/5000 [==============================] - 9s 2ms/step - loss: 4.4970e-04 - acc: 1.0000 - val_loss: 0.0618 - val_acc: 0.9800\n",
      "Epoch 17/20\n",
      "5000/5000 [==============================] - 8s 2ms/step - loss: 2.7651e-04 - acc: 1.0000 - val_loss: 0.0615 - val_acc: 0.9800\n",
      "Epoch 18/20\n",
      "5000/5000 [==============================] - 9s 2ms/step - loss: 1.9624e-04 - acc: 1.0000 - val_loss: 0.0612 - val_acc: 0.9800\n",
      "Epoch 19/20\n",
      "5000/5000 [==============================] - 9s 2ms/step - loss: 1.6763e-04 - acc: 1.0000 - val_loss: 0.0626 - val_acc: 0.9800\n",
      "Epoch 20/20\n",
      "5000/5000 [==============================] - 9s 2ms/step - loss: 1.3779e-04 - acc: 1.0000 - val_loss: 0.0623 - val_acc: 0.9810\n"
     ]
    }
   ],
   "source": [
    "simple_train = simple_model.fit(X_train, y_train_onehot, batch_size=batch_size, epochs=num_epochs, verbose=1,\n",
    "                                validation_data=(X_valid, y_valid_onehot))"
   ]
  },
  {
   "cell_type": "markdown",
   "metadata": {},
   "source": [
    "**Part C**: We can already get an idea of how we did from the training output, but let's get the final results directly from the training history and print them. "
   ]
  },
  {
   "cell_type": "code",
   "execution_count": 16,
   "metadata": {
    "ExecuteTime": {
     "end_time": "2018-04-09T19:16:04.713730Z",
     "start_time": "2018-04-09T19:16:04.710323Z"
    }
   },
   "outputs": [
    {
     "name": "stdout",
     "output_type": "stream",
     "text": [
      "training loss = 0.000,  training accuracy = 1.000\n"
     ]
    }
   ],
   "source": [
    "print(\"training loss = {:.3f},  training accuracy = {:.3f}\".\n",
    "      format(simple_train.history['loss'][-1], simple_train.history['acc'][-1]))"
   ]
  },
  {
   "cell_type": "markdown",
   "metadata": {},
   "source": [
    "We can also print the loss and accuracy on the validation data. "
   ]
  },
  {
   "cell_type": "code",
   "execution_count": 17,
   "metadata": {
    "ExecuteTime": {
     "end_time": "2018-04-09T19:18:37.160236Z",
     "start_time": "2018-04-09T19:18:37.156999Z"
    }
   },
   "outputs": [
    {
     "name": "stdout",
     "output_type": "stream",
     "text": [
      "validation loss = 0.062,  validation accuracy = 0.981\n"
     ]
    }
   ],
   "source": [
    "print(\"validation loss = {:.3f},  validation accuracy = {:.3f}\".\n",
    "      format(simple_train.history['val_loss'][-1], simple_train.history['val_acc'][-1]))"
   ]
  },
  {
   "cell_type": "markdown",
   "metadata": {},
   "source": [
    "**Part D**: Finally, let's make a plot of the training and validation accuracies as they evolve over the training process. "
   ]
  },
  {
   "cell_type": "code",
   "execution_count": 18,
   "metadata": {
    "ExecuteTime": {
     "end_time": "2018-04-09T19:22:22.008510Z",
     "start_time": "2018-04-09T19:22:21.786060Z"
    }
   },
   "outputs": [
    {
     "data": {
      "text/plain": [
       "''"
      ]
     },
     "execution_count": 18,
     "metadata": {},
     "output_type": "execute_result"
    },
    {
     "data": {
      "image/png": "[encoded data removed]",
      "text/plain": [
       "<matplotlib.figure.Figure at 0x1827b18da0>"
      ]
     },
     "metadata": {},
     "output_type": "display_data"
    }
   ],
   "source": [
    "fig, ax = plt.subplots(nrows=1, ncols=1, figsize=(10,5))\n",
    "ax.plot(range(1,num_epochs+1), simple_train.history['acc'], color=\"steelblue\", marker=\"o\", label=\"training\")\n",
    "ax.plot(range(1,num_epochs+1), simple_train.history['val_acc'], color=\"green\", marker=\"o\", label=\"validation\")\n",
    "ax.grid(alpha=0.25)\n",
    "ax.legend(loc=\"lower right\", fontsize=20)\n",
    "plt.xticks(range(1,num_epochs+2,2))\n",
    "ax.set_xlabel(\"epoch\", fontsize=16)\n",
    "ax.set_ylabel(\"accuracy\", fontsize=16)\n",
    ";"
   ]
  },
  {
   "cell_type": "markdown",
   "metadata": {},
   "source": [
    "### Problem 3: Combating Overfitting \n",
    "*** \n",
    "\n",
    "While it doesn't appear that we really have an overfitting problem here, let's pretend that we do so we can explore methods to mitigate it.  \n",
    "\n",
    "We'll do this by adding Dropout layers after each of the Conv-MaxPool layers and after the Dense hidden layer.  You can do this by inserting layers of the form \n",
    "\n",
    "`simple_model.add(Dropout(p))`\n",
    "\n",
    "in the architecture specifications above. The parameter $p$ indicates what proportions of units to randomly ignore during training.  Typically we start with small values of $p$ and then increase them as we go farther into the network.  As a first pass, try using $p = 0.25, 0.25, 0.4, 0.3$ for the four DropOut layers. \n",
    "\n",
    "Repeat the training and evaluation process performed in **Problem 2**.  How did you do? "
   ]
  },
  {
   "cell_type": "code",
   "execution_count": 20,
   "metadata": {},
   "outputs": [
    {
     "name": "stdout",
     "output_type": "stream",
     "text": [
      "Train on 5000 samples, validate on 1000 samples\n",
      "Epoch 1/20\n",
      "5000/5000 [==============================] - 11s 2ms/step - loss: 0.9027 - acc: 0.6906 - val_loss: 0.2133 - val_acc: 0.9260\n",
      "Epoch 2/20\n",
      "5000/5000 [==============================] - 10s 2ms/step - loss: 0.2446 - acc: 0.9268 - val_loss: 0.1340 - val_acc: 0.9530\n",
      "Epoch 3/20\n",
      "5000/5000 [==============================] - 10s 2ms/step - loss: 0.1719 - acc: 0.9502 - val_loss: 0.1094 - val_acc: 0.9600\n",
      "Epoch 4/20\n",
      "5000/5000 [==============================] - 11s 2ms/step - loss: 0.1421 - acc: 0.9594 - val_loss: 0.0966 - val_acc: 0.9660\n",
      "Epoch 5/20\n",
      "5000/5000 [==============================] - 12s 2ms/step - loss: 0.1058 - acc: 0.9680 - val_loss: 0.0675 - val_acc: 0.9790\n",
      "Epoch 6/20\n",
      "5000/5000 [==============================] - 13s 3ms/step - loss: 0.0900 - acc: 0.9708 - val_loss: 0.1005 - val_acc: 0.9680\n",
      "Epoch 7/20\n",
      "5000/5000 [==============================] - 13s 3ms/step - loss: 0.0966 - acc: 0.9702 - val_loss: 0.0719 - val_acc: 0.9780\n",
      "Epoch 8/20\n",
      "5000/5000 [==============================] - 13s 3ms/step - loss: 0.0753 - acc: 0.9764 - val_loss: 0.0894 - val_acc: 0.9720\n",
      "Epoch 9/20\n",
      "5000/5000 [==============================] - 11s 2ms/step - loss: 0.0697 - acc: 0.9774 - val_loss: 0.0807 - val_acc: 0.9680\n",
      "Epoch 10/20\n",
      "5000/5000 [==============================] - 11s 2ms/step - loss: 0.0628 - acc: 0.9816 - val_loss: 0.0492 - val_acc: 0.9810\n",
      "Epoch 11/20\n",
      "5000/5000 [==============================] - 11s 2ms/step - loss: 0.0632 - acc: 0.9818 - val_loss: 0.0565 - val_acc: 0.9790\n",
      "Epoch 12/20\n",
      "5000/5000 [==============================] - 12s 2ms/step - loss: 0.0467 - acc: 0.9838 - val_loss: 0.0480 - val_acc: 0.9840\n",
      "Epoch 13/20\n",
      "5000/5000 [==============================] - 13s 3ms/step - loss: 0.0561 - acc: 0.9826 - val_loss: 0.0473 - val_acc: 0.9830\n",
      "Epoch 14/20\n",
      "5000/5000 [==============================] - 12s 2ms/step - loss: 0.0449 - acc: 0.9870 - val_loss: 0.0504 - val_acc: 0.9840\n",
      "Epoch 15/20\n",
      "5000/5000 [==============================] - 11s 2ms/step - loss: 0.0505 - acc: 0.9822 - val_loss: 0.0538 - val_acc: 0.9770\n",
      "Epoch 16/20\n",
      "5000/5000 [==============================] - 11s 2ms/step - loss: 0.0383 - acc: 0.9868 - val_loss: 0.0544 - val_acc: 0.9810\n",
      "Epoch 17/20\n",
      "5000/5000 [==============================] - 11s 2ms/step - loss: 0.0367 - acc: 0.9896 - val_loss: 0.0658 - val_acc: 0.9770\n",
      "Epoch 18/20\n",
      "5000/5000 [==============================] - 12s 2ms/step - loss: 0.0412 - acc: 0.9882 - val_loss: 0.0416 - val_acc: 0.9850\n",
      "Epoch 19/20\n",
      "5000/5000 [==============================] - 12s 2ms/step - loss: 0.0399 - acc: 0.9870 - val_loss: 0.0594 - val_acc: 0.9820\n",
      "Epoch 20/20\n",
      "5000/5000 [==============================] - 12s 2ms/step - loss: 0.0296 - acc: 0.9902 - val_loss: 0.0452 - val_acc: 0.9860\n"
     ]
    }
   ],
   "source": [
    "# initialize model \n",
    "simple_model = Sequential()\n",
    "\n",
    "# Convolutional layer with 32 3x3 filters followed by 2x2 MaxPool \n",
    "simple_model.add(Conv2D(32, kernel_size=(3, 3),activation='relu',input_shape=input_shape,padding='same'))\n",
    "simple_model.add(MaxPooling2D((2, 2),padding='same'))\n",
    "simple_model.add(Dropout(0.25))\n",
    "\n",
    "# Convolutional layer with 64 3x3 filters followed by 2x2 MaxPool \n",
    "simple_model.add(Conv2D(64, (3, 3), activation='relu',padding='same'))\n",
    "simple_model.add(MaxPooling2D(pool_size=(2, 2),padding='same'))\n",
    "simple_model.add(Dropout(0.25))\n",
    "\n",
    "# Convolutional layer with 128 3x3 filters followed by 2x2 MaxPool \n",
    "simple_model.add(Conv2D(128, (3, 3), activation='relu',padding='same'))\n",
    "simple_model.add(MaxPooling2D(pool_size=(2, 2),padding='same'))\n",
    "simple_model.add(Dropout(0.25))\n",
    "\n",
    "# Flatten and feed into dense layer \n",
    "simple_model.add(Flatten())\n",
    "simple_model.add(Dense(128, activation='relu'))\n",
    "simple_model.add(Dropout(0.4))\n",
    "\n",
    "# Output layer \n",
    "simple_model.add(Dense(num_classes, activation='softmax'))\n",
    "\n",
    "# Compile the model\n",
    "simple_model.compile(loss=loss, optimizer=optimizer, metrics=metrics)\n",
    "\n",
    "# Actually train the model\n",
    "simple_train = simple_model.fit(X_train, y_train_onehot, batch_size=batch_size, epochs=num_epochs, verbose=1,\n",
    "                                validation_data=(X_valid, y_valid_onehot))"
   ]
  },
  {
   "cell_type": "code",
   "execution_count": 21,
   "metadata": {},
   "outputs": [
    {
     "name": "stdout",
     "output_type": "stream",
     "text": [
      "training loss = 0.030,  training accuracy = 0.990\n",
      "validation loss = 0.045,  validation accuracy = 0.986\n"
     ]
    }
   ],
   "source": [
    "print(\"training loss = {:.3f},  training accuracy = {:.3f}\".\n",
    "      format(simple_train.history['loss'][-1], simple_train.history['acc'][-1]))\n",
    "print(\"validation loss = {:.3f},  validation accuracy = {:.3f}\".\n",
    "      format(simple_train.history['val_loss'][-1], simple_train.history['val_acc'][-1]))"
   ]
  },
  {
   "cell_type": "code",
   "execution_count": 22,
   "metadata": {},
   "outputs": [
    {
     "data": {
      "text/plain": [
       "''"
      ]
     },
     "execution_count": 22,
     "metadata": {},
     "output_type": "execute_result"
    },
    {
     "data": {
      "image/png": "[encoded data removed]",
      "text/plain": [
       "<matplotlib.figure.Figure at 0x1827aa4f28>"
      ]
     },
     "metadata": {},
     "output_type": "display_data"
    }
   ],
   "source": [
    "# Plot the outputs\n",
    "fig, ax = plt.subplots(nrows=1, ncols=1, figsize=(10,5))\n",
    "ax.plot(range(1,num_epochs+1), simple_train.history['acc'], color=\"steelblue\", marker=\"o\", label=\"training\")\n",
    "ax.plot(range(1,num_epochs+1), simple_train.history['val_acc'], color=\"green\", marker=\"o\", label=\"validation\")\n",
    "ax.grid(alpha=0.25)\n",
    "ax.legend(loc=\"lower right\", fontsize=20)\n",
    "plt.xticks(range(1,num_epochs+2,2))\n",
    "ax.set_xlabel(\"epoch\", fontsize=16)\n",
    "ax.set_ylabel(\"accuracy\", fontsize=16)\n",
    ";"
   ]
  },
  {
   "cell_type": "markdown",
   "metadata": {},
   "source": [
    "### Problem 4: More Interesting Data \n",
    "*** \n",
    "\n",
    "As people became board with the vanilla MNIST data, lots of alternative data sets popped up.  A popular one is the so called `fashion_mnist` dataset.  Go back to **Problem 2** and try your network out on this data set instead. "
   ]
  },
  {
   "cell_type": "code",
   "execution_count": 23,
   "metadata": {},
   "outputs": [
    {
     "name": "stdout",
     "output_type": "stream",
     "text": [
      "Downloading data from http://fashion-mnist.s3-website.eu-central-1.amazonaws.com/train-labels-idx1-ubyte.gz\n",
      "32768/29515 [=================================] - 0s 5us/step\n",
      "Downloading data from http://fashion-mnist.s3-website.eu-central-1.amazonaws.com/train-images-idx3-ubyte.gz\n",
      "26427392/26421880 [==============================] - 51s 2us/step\n",
      "Downloading data from http://fashion-mnist.s3-website.eu-central-1.amazonaws.com/t10k-labels-idx1-ubyte.gz\n",
      "8192/5148 [===============================================] - 0s 0us/step\n",
      "Downloading data from http://fashion-mnist.s3-website.eu-central-1.amazonaws.com/t10k-images-idx3-ubyte.gz\n",
      "4423680/4422102 [==============================] - 21s 5us/step\n"
     ]
    }
   ],
   "source": [
    "from keras.datasets import fashion_mnist\n",
    "\n",
    "(X_train, y_train), (X_valid, y_valid) = fashion_mnist.load_data()"
   ]
  },
  {
   "cell_type": "code",
   "execution_count": null,
   "metadata": {
    "collapsed": true
   },
   "outputs": [],
   "source": []
  }
 ],
 "metadata": {
  "kernelspec": {
   "display_name": "Python 3",
   "language": "python",
   "name": "python3"
  },
  "language_info": {
   "codemirror_mode": {
    "name": "ipython",
    "version": 3
   },
   "file_extension": ".py",
   "mimetype": "text/x-python",
   "name": "python",
   "nbconvert_exporter": "python",
   "pygments_lexer": "ipython3",
   "version": "3.6.3"
  }
 },
 "nbformat": 4,
 "nbformat_minor": 1
}
