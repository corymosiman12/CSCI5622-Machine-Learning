{
 "cells": [
  {
   "cell_type": "markdown",
   "metadata": {},
   "source": [
    "# Learning Theory Homework \n",
    "***\n",
    "**Name**: $<$insert name here$>$ \n",
    "***\n",
    "\n",
    "This assignment is due on Moodle by **5pm on Friday March 9th**. Submit only this Jupyter notebook to Moodle. Do not compress it using tar, rar, zip, etc. Your solutions to analysis questions should be done in Markdown directly below the associated question.  Remember that you are encouraged to discuss the problems with your instructors and classmates, but **you must write all code and solutions on your own**.  For a refresher on the course **Collaboration Policy** click [here](https://github.com/chrisketelsen/CSCI5622-Machine-Learning/blob/master/resources/syllabus.md#collaboration-policy)\n",
    "\n"
   ]
  },
  {
   "cell_type": "markdown",
   "metadata": {},
   "source": [
    "## Overview \n",
    "***\n",
    "\n",
    "In this assignment you will explore the concepts of PAC learnability and VC dimension. \n"
   ]
  },
  {
   "cell_type": "markdown",
   "metadata": {},
   "source": [
    "### [15 points] Problem 1: \n",
    "***\n",
    "\n",
    "Consider the class C of concepts defined by triangles with **distinct** vertices of the form $(i, j)$ where $i$ and $j$ are integers in the interval $[0,99]$. A concept c labels points on the interior and boundary of the associated triangle as positive and points exterior to the triangle as negative.\n",
    "\n",
    "**Note**: To make life easier, we'll allow degenerate triangles in $C$. That is, triangles where the vertices are collinear. The following image depicts an example of a nondegenerate and a degenerate triangle."
   ]
  },
  {
   "cell_type": "markdown",
   "metadata": {},
   "source": [
    "<img src=\"figs/triangles.png\" width=400 height=50>  "
   ]
  },
  {
   "cell_type": "markdown",
   "metadata": {},
   "source": [
    "**Part A**: Suppose we have an algorithm that produces a consistent $h$ from the hypothesis class $H = C$. Give a bound on the number of training examples sufficient to assure that for any target concept $c$ in $C$, our algorithm will, with probability $1-\\delta$, output a hypothesis $h$ with generalization error at most $\\epsilon$."
   ]
  },
  {
   "cell_type": "markdown",
   "metadata": {
    "collapsed": true
   },
   "source": [
    "**A:**  \n",
    "In this example, we are given that $h$ is consistent and we also know that the vertices are integers, so we know this comes from the **consistent hypothesis, finite spaces** class.  Therefore, the minimum number of training examples can be given by:  \n",
    "\n",
    "$$\n",
    "m >= \\frac{1}{\\epsilon}\\left[ln|H|~+~ln\\left(\\frac{1}{\\delta}\\right)\\right]\n",
    "$$"
   ]
  },
  {
   "cell_type": "markdown",
   "metadata": {},
   "source": [
    "**Part B**: Based on your bound in **Part A**, determine the minimum number of training examples necessary such that for any target concept $c$ in $C$, our algorithm will, with probability $0.95$, output a hypothesis $h$ with generalization error at most $0.15$.  "
   ]
  },
  {
   "cell_type": "markdown",
   "metadata": {
    "collapsed": true
   },
   "source": [
    "**A:**  \n",
    "Using $Pr\\left[R(h)<=\\epsilon \\right] >= 1-\\delta = 0.95$, we can say $\\delta = 0.05$.  We now just need to solve for the cardinality of $H$.  For the above specified case, the we have: $num_{points} = 100*100 = 10,000$.  We are simply choosing three distinct points, then taking the natural log:\n",
    "\n",
    "$$\n",
    "ln \\left[{{10000}\\choose{3}} \\right] \\approx 25.83\n",
    "$$\n",
    "\n",
    "$$\n",
    "m >= \\frac{1}{0.15}\\left[ln \\left[{{10000}\\choose{3}} \\right]~+~ln\\left(\\frac{1}{0.05}\\right)\\right] = 192.23\n",
    "$$\n",
    "\n",
    "Therefore, we need $m >= 193$ training examples."
   ]
  },
  {
   "cell_type": "markdown",
   "metadata": {},
   "source": [
    "### [15 points] Problem 2: \n",
    "***\n",
    "\n",
    "Consider feature vectors that live in two-dimensional space and the class of hypotheses defined by circles **centered at the origin**. There are two different kinds of hypotheses $h$ in this class. One type of hypthesis classifies points as positive if they lie on the boundary or **interior** of the circle, and negative otherwise. The other type of hypothesis classifies points as positive if they lie on the boundary or **exterior** of the circle, and negative otherwise. State and prove (rigorously) the VC dimension of this family of classifiers."
   ]
  },
  {
   "cell_type": "code",
   "execution_count": null,
   "metadata": {
    "collapsed": true
   },
   "outputs": [],
   "source": []
  },
  {
   "cell_type": "markdown",
   "metadata": {},
   "source": [
    "### [20 points] Problem 3: Empirical Verification of PAC Bounds for Axis-Aligned Rectangles \n",
    "***\n",
    "\n",
    "In the in-class notebook associated with PAC Learnability, we proved a PAC bound for the class of concepts $C$ comprised of axis-aligned rectangles living in $\\mathbb{R}^2$ of the form $(a \\leq x \\leq b) \\wedge (c \\leq y \\leq d)$ where $a, b, c, d$ are real numbers. Specifically, we proved that with probability $1-\\delta$, any consistent learner could learn a hypothesis $h$ in $H = C$ with generalization error less than $\\epsilon$ provided that the number of training examples satisfied \n",
    "\n",
    "$$\n",
    "m > \\frac{4}{\\epsilon}\\log\\frac{4}{\\delta}\n",
    "$$\n",
    "\n",
    "In this problem you will empirically verify this bound for the restricted concept class $C$ where the rectangles are defined by $(a \\leq x \\leq b) \\wedge (c \\leq y \\leq d)$ where $a, b, c, d$ are real numbers satisfying $0 \\leq a \\leq b \\leq 100$ and $0 \\leq c \\leq d \\leq 100$. \n",
    "\n",
    "**Part A**: The following is a general outline of how you should accomplish this, but it is up to you how you organize your code. "
   ]
  },
  {
   "cell_type": "markdown",
   "metadata": {},
   "source": [
    "- Write some code that randomly generates a concept rectangle $c$. \n",
    "\n",
    "\n",
    "\n",
    "- Write some code that, given feature vectors of length-2, labels them according to some rectangle (that is, labels a point positive if the point is on the boundary or interior of the rectangle, and negative otherwise).  \n",
    "\n",
    "\n",
    "\n",
    "- Write some code that, given training examples of length-2, and labeled according to a concept $c$, returns a consistent hypothesis rectangle $h$. \n",
    "\n",
    "\n",
    "\n",
    "- Write some code that generates a training set of size $m$, labels them according to a random concept $c$, learns a consistent hypothesis $h$, and then approximates the generalization error by predicting on $1000$ new examples from the same distribution as the training data. \n",
    "\n",
    "\n",
    "- Write some code that computes approximate generalization errors for $100$ independent concepts $c$ and associated training sets of size $m$, and returns the worst-case generalization error at the confidence level $1-\\delta$.  One way to do this in the case that say $\\delta = 0.05$, is to report the $95^\\textrm{th}$ percentile of the $100$ samples of the generalization error. We can then say that, in our simulation, $100(1-\\delta)\\%$ of our observed generalization errors were less than our computed value. (**Bonus**: If your code is efficient, try increasing the number of runs in the simulation to $500$. This should give you a better approximation of the generalization error.) "
   ]
  },
  {
   "cell_type": "code",
   "execution_count": 517,
   "metadata": {
    "collapsed": true
   },
   "outputs": [],
   "source": [
    "import numpy as np\n",
    "import random\n",
    "import matplotlib.pyplot as plt\n",
    "import sys\n",
    "%matplotlib inline"
   ]
  },
  {
   "cell_type": "code",
   "execution_count": 667,
   "metadata": {
    "collapsed": true
   },
   "outputs": [],
   "source": [
    "class CalcPAC():\n",
    "    '''\n",
    "    params: min_, max_ are the bounds from which random points will be generated\n",
    "    param: m_training is the number of training examples\n",
    "    param: m_testing is the number of testing examples\n",
    "    '''\n",
    "    def __init__(self, min_, max_, m_training, m_testing):\n",
    "        self.min_ = min_\n",
    "        self.max_ = max_\n",
    "        self.m_training = m_training\n",
    "        self.m_testing = m_testing\n",
    "        \n",
    "    def gen_random_points(self, training = True):\n",
    "        '''\n",
    "        produces an array of randomly distributed [x,y] pairs\n",
    "        '''\n",
    "        x = []\n",
    "        y = []\n",
    "        \n",
    "        # The number of points used for training and testing will be different\n",
    "        if training:\n",
    "            num_points = self.m_training\n",
    "        else:\n",
    "            num_points = self.m_testing\n",
    "        \n",
    "        # Continue generating [x,y] points from the distribution defined\n",
    "        # by the min_ and max_ bounds\n",
    "        while len(x) < num_points:\n",
    "            x.append(random.uniform(self.min_, self.max_))\n",
    "            y.append(random.uniform(self.min_, self.max_))\n",
    "            \n",
    "        # Return a numpy array of [x,y] coordinates\n",
    "        if training:\n",
    "            self.random_points_train = np.array(list(zip(x,y)))\n",
    "        else:\n",
    "            self.random_points_test = np.array(list(zip(x,y)))\n",
    "        \n",
    "    def gen_concept_rectangle(self):\n",
    "        '''\n",
    "        param: min_ is floating point number used for minimum bound\n",
    "        param: max_ is floating point number used for maximum bound\n",
    "        param: seed is integer used to seed random function\n",
    "\n",
    "        return: an ordered np array of 4 points defining a rectangle from lower\n",
    "        left point clockwise to lower right point\n",
    "        '''\n",
    "\n",
    "        x1 = random.uniform(self.min_, self.max_)\n",
    "        y1 = random.uniform(self.min_, self.max_)\n",
    "        x2 = random.uniform(self.min_, self.max_)\n",
    "        y2 = random.uniform(self.min_, self.max_)\n",
    "\n",
    "        # Don't allow points to be equivalent\n",
    "        while x1 == x2:\n",
    "            x2 = random.uniform(self.min_, self.max_)\n",
    "        while y1 == y2:\n",
    "            y2 = random.uniform(self.min_, self.max_)\n",
    "\n",
    "        # Order points intuitively\n",
    "        if not x1 < x2:\n",
    "            x11 = x2\n",
    "            x2 = x1\n",
    "            x1 = x11\n",
    "\n",
    "        if not y1 < y2:\n",
    "            y11 = y2\n",
    "            y2 = y1\n",
    "            y1 = y11\n",
    "        \n",
    "        # Define the concept class minimum and maximum values for x and y\n",
    "        self.c_x_min, self.c_x_max = [x1, x2]\n",
    "        self.c_y_min, self.c_y_max = [y1, y2]\n",
    "        self.concept_rec = np.array([[x1,y1],[x1,y2],[x2,y2],[x2,y1]])\n",
    "\n",
    "    def label_maker(self, training = True):\n",
    "        '''\n",
    "        param: rectangle is an ordered np array of 4 points defining a rectangle from lower\n",
    "        left point clockwise to lower right point\n",
    "\n",
    "        param: points is a two-column np.array[[x1,y1],[x2,y2]...]\n",
    "\n",
    "        returns: np.array of ints with [x, y, class] with class = {-1,1}\n",
    "        '''\n",
    "        new = []\n",
    "        if training:\n",
    "            # TRAINING point labels\n",
    "            self.labeled_train = self.real_label_maker(self.concept_rec, self.random_points_train)\n",
    "            \n",
    "        else:\n",
    "            # HYPOTHESIS of point labels\n",
    "            self.h_labeled_test = self.real_label_maker(self.hypothesis_rec, self.random_points_test)\n",
    "            \n",
    "            # CONCEPT i.e. ground truth of point labels\n",
    "            self.c_labeled_test = self.real_label_maker(self.concept_rec, self.random_points_test)\n",
    "            \n",
    "    def real_label_maker(self, rect, array):\n",
    "        '''\n",
    "        pass in a rectangle defining the bounds and an array of points to be classified\n",
    "        '''\n",
    "        new = []\n",
    "        \n",
    "        # Extract min and max values for rectangular array\n",
    "        x_min, y_min = np.amin(rect, axis = 0)\n",
    "        x_max, y_max = np.amax(rect, axis = 0)\n",
    "\n",
    "        # Classify array of [x,y] points based on bounds of rectangle\n",
    "        for row in range(0, len(array)):\n",
    "            if x_min <= array[row][0] and array[row][0] <= x_max:\n",
    "                if y_min <= array[row][1] and array[row][1] <= y_max:\n",
    "                    new.append(1)\n",
    "                else:\n",
    "                    new.append(-1)\n",
    "            else:\n",
    "                new.append(-1)\n",
    "\n",
    "        # Return a numpy array of [[x1,y1,class1],[x2,y2,class2]...n] \n",
    "        new = np.array([new])\n",
    "        return np.append(array, new.T, axis=1)\n",
    "        \n",
    "    def hypothesis_rectangle(self):\n",
    "        '''\n",
    "        param: labeled is a np.array of ints with [x, y, class]\n",
    "\n",
    "        returns: an ordered np array of 4 points defining a rectangle from lower\n",
    "        left point clockwise to lower right point\n",
    "        '''\n",
    "\n",
    "        # The hypothesis rectangle will always be constructed from the TRAINING points\n",
    "        pos_points = self.labeled_train[self.labeled_train[:,2] == 1]\n",
    "\n",
    "        # make sure there is at least 1 positively labeled point in the pos_points array\n",
    "        try:\n",
    "            self.h_x_min, self.h_y_min, _ = np.amin(pos_points, axis = 0)\n",
    "            self.h_x_max, self.h_y_max, _ = np.amax(pos_points, axis = 0)\n",
    "        except ValueError as e:\n",
    "            print('There are {} positively labeled points, '\n",
    "            'therefore, a hypothesis rectange could not be created.\\n'\n",
    "            'The error is: {}'.format(len(pos_points), e))\n",
    "            sys.exit(1)\n",
    "\n",
    "        self.hypothesis_rec =  np.array([[self.h_x_min, self.h_y_min],[self.h_x_min, self.h_y_max],\n",
    "                                         [self.h_x_max, self.h_y_max],[self.h_x_max,self.h_y_min]])\n",
    "\n",
    "    def calc_percent_captured(self):\n",
    "        '''\n",
    "        h refers to the hypothesized\n",
    "        c refers to the concept \n",
    "        '''   \n",
    "        \n",
    "        # This function calculates the proportion of the concept rectangle\n",
    "        # captured by the hypothesis rectangle\n",
    "        h_rect_area = (self.h_x_max - self.h_x_min) * (self.h_y_max - self.h_y_min)\n",
    "        c_rect_area = (self.c_x_max - self.c_x_min) * (self.c_y_max - self.c_y_min)\n",
    "\n",
    "        self.perc_captured = h_rect_area / c_rect_area\n",
    "    \n",
    "    def approx_gen_error(self):\n",
    "        # approximate the generalization error by looking at the number of incorrect\n",
    "        # divided by the total number of points classified\n",
    "        \n",
    "        incorrect = self.c_labeled_test[:,2] != self.h_labeled_test[:,2]\n",
    "        total_examples = self.c_labeled_test.shape[0]\n",
    "        return sum(incorrect)/(total_examples)\n",
    "    "
   ]
  },
  {
   "cell_type": "code",
   "execution_count": 676,
   "metadata": {},
   "outputs": [
    {
     "name": "stdout",
     "output_type": "stream",
     "text": [
      "There are 0 positively labeled points, therefore, a hypothesis rectange could not be created.\n",
      "The error is: zero-size array to reduction operation minimum which has no identity\n"
     ]
    },
    {
     "ename": "SystemExit",
     "evalue": "1",
     "output_type": "error",
     "traceback": [
      "An exception has occurred, use %tb to see the full traceback.\n",
      "\u001b[0;31mSystemExit\u001b[0m\u001b[0;31m:\u001b[0m 1\n"
     ]
    },
    {
     "name": "stderr",
     "output_type": "stream",
     "text": [
      "/Users/corymosiman/anaconda3/lib/python3.6/site-packages/IPython/core/interactiveshell.py:2870: UserWarning: To exit: use 'exit', 'quit', or Ctrl-D.\n",
      "  warn(\"To exit: use 'exit', 'quit', or Ctrl-D.\", stacklevel=1)\n"
     ]
    }
   ],
   "source": [
    "a = CalcPAC(0, 1000, 100, 50)\n",
    "a.gen_random_points(training = True)\n",
    "a.gen_concept_rectangle()\n",
    "a.label_maker(training = True)\n",
    "a.hypothesis_rectangle()\n",
    "a.gen_random_points(training = False)\n",
    "a.label_maker(training = False)\n",
    "a.approx_gen_error()\n",
    "\n",
    "# correct = a.c_labeled_test[:,2] == a.h_labeled_test[:,2]\n",
    "# print(correct)\n",
    "# print(sum(correct))"
   ]
  },
  {
   "cell_type": "code",
   "execution_count": null,
   "metadata": {
    "collapsed": true
   },
   "outputs": [],
   "source": []
  },
  {
   "cell_type": "code",
   "execution_count": 539,
   "metadata": {
    "collapsed": true
   },
   "outputs": [],
   "source": [
    "percent_captured = []\n",
    "for size in range(100, 10000, 100):\n",
    "    a = CalcPAC(0, 100, 1000, )\n",
    "    a.gen_random_points(size)\n",
    "    a.gen_concept_rectangle()\n",
    "    a.label_maker()\n",
    "    a.hypothesis_rectangle()\n",
    "    a.calc_percent_captured()\n",
    "    percent_captured.append([size, a.perc_captured])\n",
    "\n",
    "percent_captured = np.array([percent_captured])\n",
    "# print(percent_captured)"
   ]
  },
  {
   "cell_type": "code",
   "execution_count": 540,
   "metadata": {},
   "outputs": [
    {
     "data": {
      "image/png": "[encoded data removed]",
      "text/plain": [
       "<matplotlib.figure.Figure at 0x1150c15c0>"
      ]
     },
     "metadata": {},
     "output_type": "display_data"
    }
   ],
   "source": [
    "# percent_captured[0]\n",
    "plt.clf()\n",
    "plt.plot(*percent_captured.T)\n",
    "plt.show()"
   ]
  },
  {
   "cell_type": "code",
   "execution_count": 448,
   "metadata": {},
   "outputs": [
    {
     "name": "stdout",
     "output_type": "stream",
     "text": [
      "(1000, 2) <class 'numpy.ndarray'>\n",
      "[[ 30.02273663   7.92962284]\n",
      " [ 30.02273663  15.98830587]\n",
      " [ 78.34193899  15.98830587]\n",
      " [ 78.34193899   7.92962284]]\n",
      "[[ 33.06115456   8.3495489 ]\n",
      " [ 33.06115456  15.95397052]\n",
      " [ 76.80731669  15.95397052]\n",
      " [ 76.80731669   8.3495489 ]]\n"
     ]
    },
    {
     "data": {
      "image/png": "[encoded data removed]",
      "text/plain": [
       "<matplotlib.figure.Figure at 0x1150c5ac8>"
      ]
     },
     "metadata": {},
     "output_type": "display_data"
    }
   ],
   "source": [
    "rec = random_rectangle(0,100)\n",
    "points = random_points(0,100, 1000)\n",
    "print(points.shape, type(points))\n",
    "labeled = label_maker(rec, points)\n",
    "hypothesis = hypothesis_rectangle(labeled)\n",
    "print(rec)\n",
    "print(hypothesis)\n",
    "plt.plot( *rec.T)\n",
    "plt.plot( *hypothesis.T)\n",
    "plt.xlim(0,100)\n",
    "plt.ylim(0,100)\n",
    "plt.show()"
   ]
  },
  {
   "cell_type": "code",
   "execution_count": 422,
   "metadata": {},
   "outputs": [
    {
     "name": "stdout",
     "output_type": "stream",
     "text": [
      "[[ 53.25202638  56.56446254]\n",
      " [ 53.25202638  91.9773378 ]\n",
      " [ 67.3774116   91.9773378 ]\n",
      " [ 67.3774116   56.56446254]]\n",
      "[[ 53.42968284  58.72316982]\n",
      " [ 53.42968284  91.63154964]\n",
      " [ 67.26173135  91.63154964]\n",
      " [ 67.26173135  58.72316982]]\n"
     ]
    },
    {
     "data": {
      "image/png": "[encoded data removed]",
      "text/plain": [
       "<matplotlib.figure.Figure at 0x12e0d12e8>"
      ]
     },
     "metadata": {},
     "output_type": "display_data"
    }
   ],
   "source": []
  },
  {
   "cell_type": "code",
   "execution_count": 316,
   "metadata": {},
   "outputs": [
    {
     "name": "stdout",
     "output_type": "stream",
     "text": [
      "[[8.0968701744110412, 98.050998286171804], [68.3326858450787, 71.194903361978092]]\n"
     ]
    }
   ],
   "source": [
    "# test to see if points returned by random_points are outside of bounds\n",
    "a = random_rectangle(0,100)\n",
    "x_min, y_min = np.amin(a, axis = 0)\n",
    "x_max, y_max = np.amax(a, axis = 0)\n",
    "print([[x_min, x_max],[y_min, y_max]])"
   ]
  },
  {
   "cell_type": "code",
   "execution_count": 343,
   "metadata": {},
   "outputs": [
    {
     "data": {
      "image/png": "[encoded data removed]",
      "text/plain": [
       "<matplotlib.figure.Figure at 0x113e5b160>"
      ]
     },
     "metadata": {},
     "output_type": "display_data"
    },
    {
     "data": {
      "image/png": "[encoded data removed]",
      "text/plain": [
       "<matplotlib.figure.Figure at 0x12df50978>"
      ]
     },
     "metadata": {},
     "output_type": "display_data"
    }
   ],
   "source": [
    "a = random_rectangle(0,100)\n",
    "x_min, y_min = np.amin(a, axis = 0)\n",
    "x_max, y_max = np.amax(a, axis = 0)\n",
    "exterior = random_points([x_min,x_max],[y_min,y_max], 0, 100, 100)\n",
    "interior = random_points([x_min,x_max],[y_min,y_max], 0, 100, 50, inside = True)\n",
    "# fig, ax = plt.figure\n",
    "plt.scatter( *exterior.T) # used to plot a 2-column np.array of x,y pairs\n",
    "plt.scatter( *interior.T)\n",
    "plt.show()\n",
    "plt.clf()\n",
    "plt.scatter(*interior.T)\n",
    "plt.xlim(0,100)\n",
    "plt.ylim(0,100)\n",
    "plt.show()"
   ]
  },
  {
   "cell_type": "code",
   "execution_count": 325,
   "metadata": {},
   "outputs": [
    {
     "name": "stdout",
     "output_type": "stream",
     "text": [
      "[24 16 -1]\n",
      "<class 'numpy.ndarray'>\n",
      "24\n"
     ]
    }
   ],
   "source": [
    "min_ = 0.0\n",
    "max_ = 100.0\n",
    "# seed = 12\n",
    "a = random_rectangle(min_, max_)\n",
    "labeled = label_maker(a, [24,16])\n",
    "print(labeled)\n",
    "print(type(labeled))\n",
    "print(labeled[0])"
   ]
  },
  {
   "cell_type": "code",
   "execution_count": 210,
   "metadata": {},
   "outputs": [
    {
     "name": "stdout",
     "output_type": "stream",
     "text": [
      "[[ 13.5416238    6.617831  ]\n",
      " [ 13.5416238   17.39062736]\n",
      " [ 71.36189563  17.39062736]\n",
      " [ 71.36189563   6.617831  ]]\n",
      "[24 16  1]\n",
      "<class 'numpy.ndarray'>\n",
      "24\n",
      "<class 'numpy.int64'>\n"
     ]
    }
   ],
   "source": [
    "a = random_rectangle(min_, max_)\n",
    "print(a)\n",
    "labeled = label_maker(a, [24,16])\n",
    "print(labeled)\n",
    "print(type(labeled))\n",
    "print(labeled[0])\n",
    "print(type(labeled[0]))"
   ]
  },
  {
   "cell_type": "code",
   "execution_count": 180,
   "metadata": {},
   "outputs": [
    {
     "name": "stdout",
     "output_type": "stream",
     "text": [
      "['1' 'sdfl']\n"
     ]
    }
   ],
   "source": [
    "a = [1, 'sdfl']\n",
    "b = np.array(a)\n",
    "print(b)"
   ]
  },
  {
   "cell_type": "code",
   "execution_count": 17,
   "metadata": {},
   "outputs": [
    {
     "data": {
      "text/plain": [
       "14.260035292536777"
      ]
     },
     "execution_count": 17,
     "metadata": {},
     "output_type": "execute_result"
    }
   ],
   "source": [
    "x_min, y_min = np.amin(rectangle, axis = 0)\n",
    "x_max, y_max = np.amax(rectangle, axis = 0)"
   ]
  },
  {
   "cell_type": "markdown",
   "metadata": {
    "collapsed": true
   },
   "source": [
    "**Part B**: Use your code to estimate the generalization error with confidence parameter $\\delta=0.05$ for training sets of size $m$ where $m = 250, 500, 1000, 1250,$ and $1500$ and the data are comprised of points $(x,y)$ where the $x$- and $y$-values are sampled from the continuous uniform distribution $\\textrm{unif}(0,100)$. Make a **log-log** plot with $m$ on the horizontal axes and $\\epsilon$ on the vertical axis.  Additionally, overlay the theoretical PAC bound on your graph and discuss your results. "
   ]
  },
  {
   "cell_type": "code",
   "execution_count": null,
   "metadata": {
    "collapsed": true
   },
   "outputs": [],
   "source": []
  },
  {
   "cell_type": "markdown",
   "metadata": {
    "collapsed": true
   },
   "source": [
    "**Part C**: Repeat **Part B** where the data are comprised of points $(x,y)$ where the $x$- and $y$-values are sampled from the normal distribution with mean $\\mu = 50$ and standard deviation $\\sigma = 25$. Again, overlay the theoretical PAC bound on your graph and discuss your results. Do you expect to observe very different results than those observed in **Part B**?  "
   ]
  },
  {
   "cell_type": "code",
   "execution_count": null,
   "metadata": {
    "collapsed": true
   },
   "outputs": [],
   "source": []
  },
  {
   "cell_type": "markdown",
   "metadata": {},
   "source": [
    "<br><br><br><br>\n",
    "<br><br><br><br>\n",
    "<br><br><br><br>\n",
    "<br><br><br><br>\n",
    "<br><br><br><br>\n",
    "<br><br><br><br>\n",
    "# Leftovers"
   ]
  },
  {
   "cell_type": "code",
   "execution_count": null,
   "metadata": {
    "collapsed": true
   },
   "outputs": [],
   "source": [
    "def random_points_bounded(x_bounds, y_bounds, min_, max_, num_points, inside = False):\n",
    "    '''\n",
    "    param: x_bounds is list of [x_min, x_max]\n",
    "    param: y_bounds is list of [y_min, y_max]\n",
    "    param: min_ minimum x and y bound\n",
    "    param: max_ maximum x and y bound\n",
    "    param: num_points is total number of points to generate\n",
    "    \n",
    "    This funtion will return a np.array of [x,y] pairs that are within the bounds \n",
    "    specified by min_ and max_ but EXCLUDING the rectangle defined by the bounds\n",
    "    of x_bounds and y_bounds\n",
    "    '''\n",
    "    x = []\n",
    "    y = []\n",
    "    if not inside:\n",
    "        while len(x) < num_points:\n",
    "            x1 = random.uniform(min_, max_)\n",
    "            if x1 < x_bounds[0] or x_bounds[1] < x1:\n",
    "                x.append(x1)\n",
    "                y1 = random.uniform(min_, max_)\n",
    "                y.append(y1)\n",
    "            else:\n",
    "                y1 = random.uniform(min_, max_)\n",
    "                while not y1 < y_bounds[0] and not y_bounds[1] < y1:\n",
    "                    y1 = random.uniform(min_, max_)\n",
    "                x.append(x1)\n",
    "                y.append(y1)\n",
    "\n",
    "        return np.array(list(zip(x,y)))\n",
    "    \n",
    "    else:\n",
    "        while len(x) < num_points:\n",
    "            x1 = random.uniform(x_bounds[0], x_bounds[1])\n",
    "            y1 = random.uniform(y_bounds[0], y_bounds[1])\n",
    "            x.append(x1)\n",
    "            y.append(y1)\n",
    "                \n",
    "        return np.array(list(zip(x,y)))"
   ]
  }
 ],
 "metadata": {
  "kernelspec": {
   "display_name": "Python 3",
   "language": "python",
   "name": "python3"
  },
  "language_info": {
   "codemirror_mode": {
    "name": "ipython",
    "version": 3
   },
   "file_extension": ".py",
   "mimetype": "text/x-python",
   "name": "python",
   "nbconvert_exporter": "python",
   "pygments_lexer": "ipython3",
   "version": "3.6.3"
  }
 },
 "nbformat": 4,
 "nbformat_minor": 2
}
