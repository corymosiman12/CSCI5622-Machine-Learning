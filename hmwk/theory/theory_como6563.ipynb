{
 "cells": [
  {
   "cell_type": "markdown",
   "metadata": {},
   "source": [
    "# Learning Theory Homework \n",
    "***\n",
    "**Name**: $<$Cory Mosiman$>$ \n",
    "***\n",
    "\n",
    "This assignment is due on Moodle by **5pm on Friday March 9th**. Submit only this Jupyter notebook to Moodle. Do not compress it using tar, rar, zip, etc. Your solutions to analysis questions should be done in Markdown directly below the associated question.  Remember that you are encouraged to discuss the problems with your instructors and classmates, but **you must write all code and solutions on your own**.  For a refresher on the course **Collaboration Policy** click [here](https://github.com/chrisketelsen/CSCI5622-Machine-Learning/blob/master/resources/syllabus.md#collaboration-policy)\n",
    "\n"
   ]
  },
  {
   "cell_type": "markdown",
   "metadata": {},
   "source": [
    "## Overview \n",
    "***\n",
    "\n",
    "In this assignment you will explore the concepts of PAC learnability and VC dimension. \n"
   ]
  },
  {
   "cell_type": "markdown",
   "metadata": {},
   "source": [
    "### [15 points] Problem 1: \n",
    "***\n",
    "\n",
    "Consider the class C of concepts defined by triangles with **distinct** vertices of the form $(i, j)$ where $i$ and $j$ are integers in the interval $[0,99]$. A concept c labels points on the interior and boundary of the associated triangle as positive and points exterior to the triangle as negative.\n",
    "\n",
    "**Note**: To make life easier, we'll allow degenerate triangles in $C$. That is, triangles where the vertices are collinear. The following image depicts an example of a nondegenerate and a degenerate triangle."
   ]
  },
  {
   "cell_type": "markdown",
   "metadata": {},
   "source": [
    "<img src=\"figs/triangles.png\" width=400 height=50>  "
   ]
  },
  {
   "cell_type": "markdown",
   "metadata": {},
   "source": [
    "**Part A**: Suppose we have an algorithm that produces a consistent $h$ from the hypothesis class $H = C$. Give a bound on the number of training examples sufficient to assure that for any target concept $c$ in $C$, our algorithm will, with probability $1-\\delta$, output a hypothesis $h$ with generalization error at most $\\epsilon$."
   ]
  },
  {
   "cell_type": "markdown",
   "metadata": {
    "collapsed": true
   },
   "source": [
    "**A:**  \n",
    "In this example, we are given that $h$ is consistent and we also know that the vertices are integers, so we know this comes from the **consistent hypothesis, finite spaces** class.  Therefore, the minimum number of training examples can be given by:  \n",
    "\n",
    "$$\n",
    "m >= \\frac{1}{\\epsilon}\\left[ln|H|~+~ln\\left(\\frac{1}{\\delta}\\right)\\right]\n",
    "$$"
   ]
  },
  {
   "cell_type": "markdown",
   "metadata": {},
   "source": [
    "**Part B**: Based on your bound in **Part A**, determine the minimum number of training examples necessary such that for any target concept $c$ in $C$, our algorithm will, with probability $0.95$, output a hypothesis $h$ with generalization error at most $0.15$.  "
   ]
  },
  {
   "cell_type": "markdown",
   "metadata": {
    "collapsed": true
   },
   "source": [
    "**A:**  \n",
    "Using $Pr\\left[R(h)<=\\epsilon \\right] >= 1-\\delta = 0.95$, we can say $\\delta = 0.05$.  We now just need to solve for the cardinality of $H$.  For the above specified case, the we have: $num_{points} = 100*100 = 10,000$.  We are simply choosing three distinct points, then taking the natural log:\n",
    "\n",
    "$$\n",
    "ln \\left[{{10000}\\choose{3}} \\right] \\approx 25.83\n",
    "$$\n",
    "\n",
    "$$\n",
    "m >= \\frac{1}{0.15}\\left[ln \\left[{{10000}\\choose{3}} \\right]~+~ln\\left(\\frac{1}{0.05}\\right)\\right] = 192.23\n",
    "$$\n",
    "\n",
    "Therefore, we need $m >= 193$ training examples."
   ]
  },
  {
   "cell_type": "markdown",
   "metadata": {},
   "source": [
    "### [15 points] Problem 2: \n",
    "***\n",
    "\n",
    "Consider feature vectors that live in two-dimensional space and the class of hypotheses defined by circles **centered at the origin**. There are two different kinds of hypotheses $h$ in this class. One type of hypthesis classifies points as positive if they lie on the boundary or **interior** of the circle, and negative otherwise. The other type of hypothesis classifies points as positive if they lie on the boundary or **exterior** of the circle, and negative otherwise. State and prove (rigorously) the VC dimension of this family of classifiers."
   ]
  },
  {
   "cell_type": "markdown",
   "metadata": {
    "collapsed": true
   },
   "source": [
    "**Answer:**  \n",
    "$VCdim(H) = 2$  \n",
    "The above example can be explored with `red` and `blue` points."
   ]
  },
  {
   "cell_type": "code",
   "execution_count": 68,
   "metadata": {},
   "outputs": [
    {
     "data": {
      "image/png": "[encoded data removed]",
      "text/plain": [
       "<matplotlib.figure.Figure at 0x11cdb47f0>"
      ]
     },
     "metadata": {},
     "output_type": "display_data"
    }
   ],
   "source": [
    "shatter_plot()"
   ]
  },
  {
   "cell_type": "markdown",
   "metadata": {},
   "source": [
    "Above is a shattering of $VCdim(H) = 2$, since we were able to show that this class of hypothesis can successfully classify all $2^2$ dichotomies.  Therefore, I know that the $VCdim(H) >= 2$.\n",
    "\n",
    "Proof that $VCdim(H)~!>=~3$:  \n",
    "\n",
    "Assume $h_{1,r'}(r)$ classifies points as red if interior of circle; $h_{2,r'}(r)$ classifies points as red if exterior of circle.\n",
    "```\n",
    "Given three points: x1, x2, x3 that are defined by the radius x1 = r1, x2 = r2, x3 = r3\n",
    "WLOG, say that r1 <= r2 <= r3\n",
    "Assign classifications to points as: x1 = red, x2 = blue, x3 = red\n",
    "\n",
    "Assume that h1(r) can accurately capture the labeling of all points, then:\n",
    "\n",
    "a) x1 = red, therefore, r1 <= r'\n",
    "b) x2 = blue, therefore, r' < r2\n",
    "c) x3 = red, therefore, r3 <= r'\n",
    "\n",
    "BUT, this violates the initial condition that r1 <= r2 <= r3 and therefore is a CONTRADICTION.  Proof for h2(r) is similar but opposite.\n",
    "```\n",
    "Therefore, $VCdim(H) = 2$"
   ]
  },
  {
   "cell_type": "code",
   "execution_count": 67,
   "metadata": {
    "collapsed": true
   },
   "outputs": [],
   "source": [
    "def shatter_plot():\n",
    "    fig, axes = plt.subplots(nrows=1, ncols=4, figsize=(20,4))\n",
    "    axes[0].add_patch(plt.Circle((0, 0), 3, color='red', alpha = 0.1))\n",
    "    axes[0].set_xlim([-4, 4])\n",
    "    axes[0].set_ylim([-4, 4])\n",
    "    axes[0].scatter([1,1], [2,3], color=[\"red\", \"blue\"], s=150, zorder=2) # s sets size of point\n",
    "    axes[1].add_patch(plt.Circle((0, 0), 3.5, color='red', alpha = 0.1))\n",
    "    axes[1].set_xlim([-4, 4])\n",
    "    axes[1].set_ylim([-4, 4])\n",
    "    axes[1].scatter([1,1], [2,3], color=[\"red\", \"red\"], s=150, zorder=2) # s sets size of point\n",
    "    axes[2].add_patch(plt.Circle((0, 0), 3, color='blue', alpha = 0.1))\n",
    "    axes[2].set_xlim([-4, 4])\n",
    "    axes[2].set_ylim([-4, 4])\n",
    "    axes[2].scatter([1,1], [2,3], color=[\"blue\", \"red\"], s=150, zorder=2) # s sets size of point\n",
    "    axes[3].add_patch(plt.Circle((0, 0), 2, color='red', alpha = 0.1))\n",
    "    axes[3].set_xlim([-4, 4])\n",
    "    axes[3].set_ylim([-4, 4])\n",
    "    axes[3].scatter([1,1], [2,3], color=[\"blue\", \"blue\"], s=150, zorder=2) # s sets size of point"
   ]
  },
  {
   "cell_type": "markdown",
   "metadata": {},
   "source": [
    "### [20 points] Problem 3: Empirical Verification of PAC Bounds for Axis-Aligned Rectangles \n",
    "***\n",
    "\n",
    "In the in-class notebook associated with PAC Learnability, we proved a PAC bound for the class of concepts $C$ comprised of axis-aligned rectangles living in $\\mathbb{R}^2$ of the form $(a \\leq x \\leq b) \\wedge (c \\leq y \\leq d)$ where $a, b, c, d$ are real numbers. Specifically, we proved that with probability $1-\\delta$, any consistent learner could learn a hypothesis $h$ in $H = C$ with generalization error less than $\\epsilon$ provided that the number of training examples satisfied \n",
    "\n",
    "$$\n",
    "m > \\frac{4}{\\epsilon}\\log\\frac{4}{\\delta}\n",
    "$$\n",
    "\n",
    "In this problem you will empirically verify this bound for the restricted concept class $C$ where the rectangles are defined by $(a \\leq x \\leq b) \\wedge (c \\leq y \\leq d)$ where $a, b, c, d$ are real numbers satisfying $0 \\leq a \\leq b \\leq 100$ and $0 \\leq c \\leq d \\leq 100$. \n",
    "\n",
    "**Part A**: The following is a general outline of how you should accomplish this, but it is up to you how you organize your code. "
   ]
  },
  {
   "cell_type": "markdown",
   "metadata": {},
   "source": [
    "- Write some code that randomly generates a concept rectangle $c$. \n",
    "\n",
    "\n",
    "\n",
    "- Write some code that, given feature vectors of length-2, labels them according to some rectangle (that is, labels a point positive if the point is on the boundary or interior of the rectangle, and negative otherwise).  \n",
    "\n",
    "\n",
    "\n",
    "- Write some code that, given training examples of length-2, and labeled according to a concept $c$, returns a consistent hypothesis rectangle $h$. \n",
    "\n",
    "\n",
    "\n",
    "- Write some code that generates a training set of size $m$, labels them according to a random concept $c$, learns a consistent hypothesis $h$, and then approximates the generalization error by predicting on $1000$ new examples from the same distribution as the training data. \n",
    "\n",
    "\n",
    "- Write some code that computes approximate generalization errors for $100$ independent concepts $c$ and associated training sets of size $m$, and returns the worst-case generalization error at the confidence level $1-\\delta$.  One way to do this in the case that say $\\delta = 0.05$, is to report the $95^\\textrm{th}$ percentile of the $100$ samples of the generalization error. We can then say that, in our simulation, $100(1-\\delta)\\%$ of our observed generalization errors were less than our computed value. (**Bonus**: If your code is efficient, try increasing the number of runs in the simulation to $500$. This should give you a better approximation of the generalization error.) "
   ]
  },
  {
   "cell_type": "code",
   "execution_count": 1,
   "metadata": {
    "collapsed": true
   },
   "outputs": [],
   "source": [
    "import numpy as np\n",
    "import random\n",
    "import matplotlib.pyplot as plt\n",
    "import sys\n",
    "import math\n",
    "%matplotlib inline"
   ]
  },
  {
   "cell_type": "code",
   "execution_count": 38,
   "metadata": {
    "collapsed": true
   },
   "outputs": [],
   "source": [
    "class CalcPAC():\n",
    "    '''\n",
    "    params: min_, max_ are the bounds from which random points will be generated\n",
    "    param: m_training is the number of training examples\n",
    "    param: m_testing is the number of testing examples\n",
    "    '''\n",
    "    def __init__(self, min_, max_, m_training, m_testing):\n",
    "        self.min_ = min_\n",
    "        self.max_ = max_\n",
    "        self.m_training = m_training\n",
    "        self.m_testing = m_testing\n",
    "        self.all_negative = False\n",
    "        \n",
    "    def gen_random_points(self, training = True, distribution = 'uniform', mean = None, std_dev = None):\n",
    "        '''\n",
    "        produces an array of randomly distributed [x,y] pairs\n",
    "        '''\n",
    "        x = []\n",
    "        y = []\n",
    "        \n",
    "        # The number of points used for training and testing will be different\n",
    "        if training:\n",
    "            num_points = self.m_training\n",
    "        else:\n",
    "            num_points = self.m_testing\n",
    "        \n",
    "        # Continue generating [x,y] points from the distribution defined\n",
    "        # by the min_ and max_ bounds\n",
    "        if distribution == 'uniform':\n",
    "            while len(x) < num_points:\n",
    "                x.append(random.uniform(self.min_, self.max_))\n",
    "                y.append(random.uniform(self.min_, self.max_))\n",
    "                \n",
    "        elif distribution == 'normal':\n",
    "            while len(x) < num_points:\n",
    "                x.append(random.gauss(mean, std_dev))\n",
    "                y.append(random.gauss(mean, std_dev))\n",
    "                \n",
    "        # Return a numpy array of [x,y] coordinates\n",
    "        if training:\n",
    "            self.random_points_train = np.array(list(zip(x,y)))\n",
    "        else:\n",
    "            self.random_points_test = np.array(list(zip(x,y)))\n",
    "        \n",
    "    def gen_concept_rectangle(self):\n",
    "        '''\n",
    "        param: min_ is floating point number used for minimum bound\n",
    "        param: max_ is floating point number used for maximum bound\n",
    "        param: seed is integer used to seed random function\n",
    "\n",
    "        return: an ordered np array of 4 points defining a rectangle from lower\n",
    "        left point clockwise to lower right point\n",
    "        '''\n",
    "\n",
    "        x1 = random.uniform(self.min_, self.max_)\n",
    "        y1 = random.uniform(self.min_, self.max_)\n",
    "        x2 = random.uniform(self.min_, self.max_)\n",
    "        y2 = random.uniform(self.min_, self.max_)\n",
    "\n",
    "        # Don't allow points to be equivalent\n",
    "        while x1 == x2:\n",
    "            x2 = random.uniform(self.min_, self.max_)\n",
    "        while y1 == y2:\n",
    "            y2 = random.uniform(self.min_, self.max_)\n",
    "\n",
    "        # Order points intuitively\n",
    "        if not x1 < x2:\n",
    "            x11 = x2\n",
    "            x2 = x1\n",
    "            x1 = x11\n",
    "\n",
    "        if not y1 < y2:\n",
    "            y11 = y2\n",
    "            y2 = y1\n",
    "            y1 = y11\n",
    "        \n",
    "        # Define the concept class minimum and maximum values for x and y\n",
    "        self.c_x_min, self.c_x_max = [x1, x2]\n",
    "        self.c_y_min, self.c_y_max = [y1, y2]\n",
    "        self.concept_rec = np.array([[x1,y1],[x1,y2],[x2,y2],[x2,y1]])\n",
    "\n",
    "    def label_maker(self, training = True):\n",
    "        '''\n",
    "        param: rectangle is an ordered np array of 4 points defining a rectangle from lower\n",
    "        left point clockwise to lower right point\n",
    "\n",
    "        param: points is a two-column np.array[[x1,y1],[x2,y2]...]\n",
    "\n",
    "        returns: np.array of ints with [x, y, class] with class = {-1,1}\n",
    "        '''\n",
    "        new = []\n",
    "        if training:\n",
    "            # TRAINING point labels\n",
    "            self.labeled_train = self.real_label_maker(self.concept_rec, self.random_points_train, training = True)\n",
    "            \n",
    "        else:\n",
    "            if not self.all_negative:\n",
    "                # HYPOTHESIS of point labels\n",
    "                self.h_labeled_test = self.real_label_maker(self.hypothesis_rec, self.random_points_test)\n",
    "\n",
    "                # CONCEPT i.e. ground truth of point labels\n",
    "                self.c_labeled_test = self.real_label_maker(self.concept_rec, self.random_points_test)\n",
    "                \n",
    "            else:\n",
    "                # HYPOTHESIS of point labels\n",
    "                self.h_labeled_test = self.real_label_maker([], self.random_points_test)\n",
    "\n",
    "                # CONCEPT i.e. ground truth of point labels\n",
    "                self.c_labeled_test = self.real_label_maker([], self.random_points_test)\n",
    "            \n",
    "    def real_label_maker(self, rect, array, training = False):\n",
    "        '''\n",
    "        pass in a rectangle defining the bounds and an array of points to be classified\n",
    "        '''\n",
    "        new = []\n",
    "        \n",
    "        if self.all_negative and not training:\n",
    "            for row in range(0,len(array)):\n",
    "                new.append(-1)\n",
    "        else:\n",
    "            # Extract min and max values for rectangular array\n",
    "            x_min, y_min = np.amin(rect, axis = 0)\n",
    "            x_max, y_max = np.amax(rect, axis = 0)\n",
    "\n",
    "            # Classify array of [x,y] points based on bounds of rectangle\n",
    "            for row in range(0, len(array)):\n",
    "                if x_min <= array[row][0] and array[row][0] <= x_max:\n",
    "                    if y_min <= array[row][1] and array[row][1] <= y_max:\n",
    "                        new.append(1)\n",
    "                    else:\n",
    "                        new.append(-1)\n",
    "                else:\n",
    "                    new.append(-1)\n",
    "\n",
    "        # Return a numpy array of [[x1,y1,class1],[x2,y2,class2]...n] \n",
    "        new = np.array([new])\n",
    "        return np.append(array, new.T, axis=1)\n",
    "        \n",
    "    def hypothesis_rectangle(self):\n",
    "        '''\n",
    "        param: labeled is a np.array of ints with [x, y, class]\n",
    "\n",
    "        returns: an ordered np array of 4 points defining a rectangle from lower\n",
    "        left point clockwise to lower right point\n",
    "        '''\n",
    "\n",
    "        # The hypothesis rectangle will always be constructed from the TRAINING points\n",
    "        pos_points = self.labeled_train[self.labeled_train[:,2] == 1]\n",
    "        \n",
    "        # make sure there are at least 2 positively labeled point in the pos_points array\n",
    "        if len(pos_points) < 2:\n",
    "#             print('There are {} positively labeled points, '\n",
    "#             'therefore, a hypothesis rectange could not be created'.format(len(pos_points)))\n",
    "            \n",
    "            # Used to classify all points as negative if no hypothesis rectangle\n",
    "            # in the real_label_maker() method\n",
    "            self.all_negative = True\n",
    "\n",
    "        # Construct the hypothesis rectangle from the labeled training points\n",
    "        else:\n",
    "            self.h_x_min, self.h_y_min, dummy = np.amin(pos_points, axis = 0)\n",
    "            self.h_x_max, self.h_y_max, dummy = np.amax(pos_points, axis = 0)\n",
    "            self.hypothesis_rec =  np.array([[self.h_x_min, self.h_y_min],[self.h_x_min, self.h_y_max],\n",
    "                                             [self.h_x_max, self.h_y_max],[self.h_x_max,self.h_y_min]])\n",
    "            \n",
    "            \n",
    "            self.all_negative = False\n",
    "\n",
    "    def calc_percent_captured(self):\n",
    "        '''\n",
    "        h refers to the hypothesized\n",
    "        c refers to the concept \n",
    "        '''   \n",
    "        \n",
    "        # This function calculates the proportion of the concept rectangle\n",
    "        # captured by the hypothesis rectangle\n",
    "        h_rect_area = (self.h_x_max - self.h_x_min) * (self.h_y_max - self.h_y_min)\n",
    "        c_rect_area = (self.c_x_max - self.c_x_min) * (self.c_y_max - self.c_y_min)\n",
    "\n",
    "        self.perc_captured = h_rect_area / c_rect_area\n",
    "    \n",
    "    def approx_gen_error(self):\n",
    "        '''\n",
    "        Approximate the generalization error by looking at the number of incorrect\n",
    "        divided by the total number of points classified        \n",
    "        '''\n",
    "        \n",
    "        incorrect = self.c_labeled_test[:,2] != self.h_labeled_test[:,2]\n",
    "        total_examples = self.c_labeled_test.shape[0]\n",
    "        return sum(incorrect)/(total_examples)\n",
    "\n",
    "def main(num_ind_concepts, delta, training_size, testing_size, dist_type, mean = None, std_dev = None):\n",
    "    '''\n",
    "    param: num_ind_concepts = number of independent concepts to evaluate\n",
    "    param: delta = (1 - confidence level)\n",
    "    param: training_size = num of training examples to use for the creation of each concept class\n",
    "    param: testing_size = num of testing examples on which to evaluate the learned hypothesis rectangle\n",
    "    \n",
    "    This function performs a new simulation for each iteration, running through the specific functions\n",
    "    of the CalcPAC class in order to approximate the error.\n",
    "    \n",
    "    returns: delta-th percentile error, as well as full list of errors for plotting\n",
    "    '''\n",
    "    error_list = []\n",
    "    while len(error_list) < num_ind_concepts:\n",
    "#         if len(error_list) % 25 == 0:\n",
    "#             print('Iteration Number: {}'.format(len(error_list)))\n",
    "            \n",
    "        # By default, samples are drawn from the continuous distribution of [0,100]\n",
    "        a = CalcPAC(0, 100, training_size, testing_size)\n",
    "        a.gen_random_points(training = True, distribution = dist_type, mean = mean, std_dev = std_dev)\n",
    "        a.gen_concept_rectangle()\n",
    "        a.label_maker(training = True)\n",
    "        \n",
    "        '''\n",
    "        The hypothesis_rectangle will return False if there are 0 positively labeled points,\n",
    "        since it is then unable to construct a hypothesis rectangle\n",
    "        '''\n",
    "        \n",
    "        a.hypothesis_rectangle()\n",
    "        a.gen_random_points(training = False, distribution = dist_type, mean = mean, std_dev = std_dev)\n",
    "        a.label_maker(training = False)\n",
    "        error_list.append(a.approx_gen_error())\n",
    "        a.label_maker(training = False, )\n",
    "\n",
    "            \n",
    "    sorted_errors_H_to_L = sorted(error_list, reverse = True)\n",
    "    cutoff = int(num_ind_concepts * delta)\n",
    "    return(sorted_errors_H_to_L[cutoff], sorted_errors_H_to_L)\n",
    "\n",
    "def theoretical_PAC(m, delta):\n",
    "    '''\n",
    "    Used to calculate the theoretical PAC bounds\n",
    "    '''\n",
    "    epsilon = 4/m*math.log(4/delta)\n",
    "    return epsilon"
   ]
  },
  {
   "cell_type": "markdown",
   "metadata": {},
   "source": [
    "**Part B**: Use your code to estimate the generalization error with confidence parameter $\\delta=0.05$ for training sets of size $m$ where $m = 250, 500, 1000, 1250,$ and $1500$ and the data are comprised of points $(x,y)$ where the $x$- and $y$-values are sampled from the continuous uniform distribution $\\textrm{unif}(0,100)$. Make a **log-log** plot with $m$ on the horizontal axes and $\\epsilon$ on the vertical axis.  Additionally, overlay the theoretical PAC bound on your graph and discuss your results. "
   ]
  },
  {
   "cell_type": "markdown",
   "metadata": {},
   "source": [
    "**Answer:**  \n",
    "Run the code chunk below.  \n",
    "The error found using the empirical calculation is lower than the theoretical lower bound.  This makes sense because the theoretical plot gives a worst-case error for a given $m$, i.e. given $m$, we could expect the error $\\epsilon$ to be less than $m$."
   ]
  },
  {
   "cell_type": "code",
   "execution_count": 43,
   "metadata": {},
   "outputs": [
    {
     "name": "stdout",
     "output_type": "stream",
     "text": [
      "Finding empirical bounds for 250 training examples\n",
      "Finding empirical bounds for 500 training examples\n",
      "Finding empirical bounds for 1000 training examples\n",
      "Finding empirical bounds for 1250 training examples\n",
      "Finding empirical bounds for 1500 training examples\n"
     ]
    },
    {
     "data": {
      "image/png": "[encoded data removed]",
      "text/plain": [
       "<matplotlib.figure.Figure at 0x1159ef0f0>"
      ]
     },
     "metadata": {},
     "output_type": "display_data"
    }
   ],
   "source": [
    "num_ind_concepts = 500\n",
    "delta = 0.05\n",
    "testing_size = 1000\n",
    "m = [250,500, 1000, 1250, 1500]\n",
    "dist = 'uniform'\n",
    "\n",
    "error_list_uniform = []\n",
    "all_errors_list_uniform = []\n",
    "theoretical = []\n",
    "for training_size in m:\n",
    "    print('Finding empirical bounds for {} training examples'.format(training_size))\n",
    "    delta_perc_error, all_errors = main(num_ind_concepts, delta, training_size, testing_size, dist)\n",
    "    theoretical.append(theoretical_PAC(training_size, delta))\n",
    "    error_list_uniform.append(delta_perc_error)\n",
    "    all_errors_list_uniform.append(all_errors)\n",
    "    \n",
    "fig = plt.figure(figsize=(12,9))\n",
    "ax = fig.add_subplot(111)\n",
    "ax.scatter(m, error_list_uniform)\n",
    "ax.plot(m, error_list_uniform)\n",
    "ax.scatter(m, theoretical)\n",
    "ax.plot(m, theoretical)\n",
    "ax.set_xscale('log')\n",
    "ax.set_yscale('log')\n",
    "ax.grid(which = 'both')\n",
    "plt.legend(['Empirical Uniform','Theoretical'])\n",
    "plt.xlabel('Log(Number of Training Examples)')\n",
    "plt.ylabel('Log(Error)')\n",
    "plt.show()"
   ]
  },
  {
   "cell_type": "markdown",
   "metadata": {},
   "source": [
    "**Part C**: Repeat **Part B** where the data are comprised of points $(x,y)$ where the $x$- and $y$-values are sampled from the normal distribution with mean $\\mu = 50$ and standard deviation $\\sigma = 25$. Again, overlay the theoretical PAC bound on your graph and discuss your results. Do you expect to observe very different results than those observed in **Part B**?  "
   ]
  },
  {
   "cell_type": "markdown",
   "metadata": {},
   "source": [
    "**Answer:**  \n",
    "Running the code chunk below, we see the overlay of theoretical error bounds, as well as empirically calculated error bounds of randomly sampled points from a uniform distribution and normal distribution.  The error found using the normal and uniform distribution of points is not significantly different.  This makes sense because rectangles will on average have points distributed across the four quadrants within x = [0,100] and y = [0,100], overlapping the center of the plane."
   ]
  },
  {
   "cell_type": "code",
   "execution_count": 44,
   "metadata": {},
   "outputs": [
    {
     "name": "stdout",
     "output_type": "stream",
     "text": [
      "Finding empirical bounds for 250 training examples\n",
      "Finding empirical bounds for 500 training examples\n",
      "Finding empirical bounds for 1000 training examples\n",
      "Finding empirical bounds for 1250 training examples\n",
      "Finding empirical bounds for 1500 training examples\n"
     ]
    },
    {
     "data": {
      "image/png": "[encoded data removed]",
      "text/plain": [
       "<matplotlib.figure.Figure at 0x11a830518>"
      ]
     },
     "metadata": {},
     "output_type": "display_data"
    }
   ],
   "source": [
    "num_ind_concepts = 500\n",
    "delta = 0.05\n",
    "testing_size = 1000\n",
    "m = [250,500, 1000, 1250, 1500]\n",
    "dist = 'normal'\n",
    "mu = 50\n",
    "sigma = 25\n",
    "\n",
    "error_list_normal = []\n",
    "all_errors_list_normal = []\n",
    "theoretical = []\n",
    "for training_size in m:\n",
    "    print('Finding empirical bounds for {} training examples'.format(training_size))\n",
    "    delta_perc_error, all_errors = main(num_ind_concepts, delta, training_size, \n",
    "                                        testing_size, dist, mean = mu, std_dev = sigma)\n",
    "    theoretical.append(theoretical_PAC(training_size, delta))\n",
    "    error_list_normal.append(delta_perc_error)\n",
    "    all_errors_list_normal.append(all_errors)\n",
    "    \n",
    "fig = plt.figure(figsize=(12,9))\n",
    "ax = fig.add_subplot(111)\n",
    "ax.scatter(m, error_list_normal)\n",
    "ax.plot(m, error_list_normal)\n",
    "ax.scatter(m, error_list_uniform)\n",
    "ax.plot(m, error_list_uniform)\n",
    "ax.scatter(m, theoretical)\n",
    "ax.plot(m, theoretical)\n",
    "ax.set_xscale('log')\n",
    "ax.set_yscale('log')\n",
    "ax.grid(which = 'both')\n",
    "plt.legend(['Empirical Normal', 'Empirical Uniform','Theoretical'])\n",
    "plt.xlabel('Log(Number of Training Examples)')\n",
    "plt.ylabel('Log(Error)')\n",
    "plt.show()"
   ]
  },
  {
   "cell_type": "markdown",
   "metadata": {},
   "source": [
    "<br>"
   ]
  },
  {
   "cell_type": "markdown",
   "metadata": {},
   "source": [
    "<br><br><br><br>\n",
    "<br><br><br><br>\n",
    "<br><br><br><br>\n",
    "<br><br><br><br>\n",
    "<br><br><br><br>\n",
    "<br><br><br><br>\n",
    "# Leftovers"
   ]
  },
  {
   "cell_type": "code",
   "execution_count": null,
   "metadata": {
    "collapsed": true
   },
   "outputs": [],
   "source": [
    "def random_points_bounded(x_bounds, y_bounds, min_, max_, num_points, inside = False):\n",
    "    '''\n",
    "    param: x_bounds is list of [x_min, x_max]\n",
    "    param: y_bounds is list of [y_min, y_max]\n",
    "    param: min_ minimum x and y bound\n",
    "    param: max_ maximum x and y bound\n",
    "    param: num_points is total number of points to generate\n",
    "    \n",
    "    This funtion will return a np.array of [x,y] pairs that are within the bounds \n",
    "    specified by min_ and max_ but EXCLUDING the rectangle defined by the bounds\n",
    "    of x_bounds and y_bounds\n",
    "    '''\n",
    "    x = []\n",
    "    y = []\n",
    "    if not inside:\n",
    "        while len(x) < num_points:\n",
    "            x1 = random.uniform(min_, max_)\n",
    "            if x1 < x_bounds[0] or x_bounds[1] < x1:\n",
    "                x.append(x1)\n",
    "                y1 = random.uniform(min_, max_)\n",
    "                y.append(y1)\n",
    "            else:\n",
    "                y1 = random.uniform(min_, max_)\n",
    "                while not y1 < y_bounds[0] and not y_bounds[1] < y1:\n",
    "                    y1 = random.uniform(min_, max_)\n",
    "                x.append(x1)\n",
    "                y.append(y1)\n",
    "\n",
    "        return np.array(list(zip(x,y)))\n",
    "    \n",
    "    else:\n",
    "        while len(x) < num_points:\n",
    "            x1 = random.uniform(x_bounds[0], x_bounds[1])\n",
    "            y1 = random.uniform(y_bounds[0], y_bounds[1])\n",
    "            x.append(x1)\n",
    "            y.append(y1)\n",
    "                \n",
    "        return np.array(list(zip(x,y)))"
   ]
  },
  {
   "cell_type": "code",
   "execution_count": null,
   "metadata": {
    "collapsed": true
   },
   "outputs": [],
   "source": [
    "rec = random_rectangle(0,100)\n",
    "points = random_points(0,100, 1000)\n",
    "print(points.shape, type(points))\n",
    "labeled = label_maker(rec, points)\n",
    "hypothesis = hypothesis_rectangle(labeled)\n",
    "print(rec)\n",
    "print(hypothesis)\n",
    "plt.plot( *rec.T)\n",
    "plt.plot( *hypothesis.T)\n",
    "plt.xlim(0,100)\n",
    "plt.ylim(0,100)\n",
    "plt.show()"
   ]
  },
  {
   "cell_type": "code",
   "execution_count": null,
   "metadata": {
    "collapsed": true
   },
   "outputs": [],
   "source": [
    "a = random_rectangle(0,100)\n",
    "x_min, y_min = np.amin(a, axis = 0)\n",
    "x_max, y_max = np.amax(a, axis = 0)\n",
    "exterior = random_points([x_min,x_max],[y_min,y_max], 0, 100, 100)\n",
    "interior = random_points([x_min,x_max],[y_min,y_max], 0, 100, 50, inside = True)\n",
    "# fig, ax = plt.figure\n",
    "plt.scatter( *exterior.T) # used to plot a 2-column np.array of x,y pairs\n",
    "plt.scatter( *interior.T)\n",
    "plt.show()\n",
    "plt.clf()\n",
    "plt.scatter(*interior.T)\n",
    "plt.xlim(0,100)\n",
    "plt.ylim(0,100)\n",
    "plt.show()"
   ]
  }
 ],
 "metadata": {
  "kernelspec": {
   "display_name": "Python 3",
   "language": "python",
   "name": "python3"
  },
  "language_info": {
   "codemirror_mode": {
    "name": "ipython",
    "version": 3
   },
   "file_extension": ".py",
   "mimetype": "text/x-python",
   "name": "python",
   "nbconvert_exporter": "python",
   "pygments_lexer": "ipython3",
   "version": "3.6.3"
  }
 },
 "nbformat": 4,
 "nbformat_minor": 2
}
