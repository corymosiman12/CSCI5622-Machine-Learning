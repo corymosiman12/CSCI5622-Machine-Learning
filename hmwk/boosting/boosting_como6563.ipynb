{
 "cells": [
  {
   "cell_type": "markdown",
   "metadata": {},
   "source": [
    "# Boosting Homework \n",
    "***\n",
    "**Name**: $<$Cory Mosiman$>$ \n",
    "***\n",
    "\n",
    "This assignment is due on Moodle by **5pm on Friday April 13th**. Submit only this Jupyter notebook to Moodle.  Do not compress it using tar, rar, zip, etc. Your solutions to analysis questions should be done in Markdown directly below the associated question.  Remember that you are encouraged to discuss the problems with your instructors and classmates, but **you must write all code and solutions on your own**.  For a refresher on the course **Collaboration Policy** click [here](https://github.com/chrisketelsen/CSCI5622-Machine-Learning/blob/master/resources/syllabus.md#collaboration-policy)\n",
    "\n"
   ]
  },
  {
   "cell_type": "markdown",
   "metadata": {},
   "source": [
    "## Overview \n",
    "***\n",
    "\n",
    "\n",
    "\n",
    "In this homework you'll implement the AdaBoost classification framework to do handwritten digit recognition. Your implementation should be based on the description of AdaBoost given in the lecture slides.\n",
    "\n",
    "<br>\n",
    "\n",
    "![digits](mnist.png \"mnist data\")\n",
    "\n",
    "\n",
    "<br>\n",
    "\n",
    "Here are the rules: \n",
    "\n",
    "- Do **NOT** use sklearn's implementation of Adaboost.  You may however use sklearn's implementation of decisions trees. \n",
    "- Do **NOT** load or use any Python packages that are not available in Anaconda 3.6. \n",
    "- Some problems with code may be autograded.  If we provide a function or class API **do not** change it.\n",
    "- Do not change the location of the data or data directory.  Use only relative paths to access the data. "
   ]
  },
  {
   "cell_type": "code",
   "execution_count": 1,
   "metadata": {
    "ExecuteTime": {
     "end_time": "2018-04-02T09:58:16.624747Z",
     "start_time": "2018-04-02T09:58:15.916585Z"
    },
    "collapsed": true
   },
   "outputs": [],
   "source": [
    "import numpy as np\n",
    "from sklearn.tree import DecisionTreeClassifier\n",
    "from sklearn.base import clone \n",
    "import matplotlib.pylab as plt\n",
    "import matplotlib.colors\n",
    "%matplotlib inline "
   ]
  },
  {
   "cell_type": "markdown",
   "metadata": {},
   "source": [
    "### [5 points] Problem 1\n",
    "***\n",
    "\n",
    "Since we'll be working with binary classifiers, we'll look at the subset of the MNIST data pertaining to handwritten three's and eights. Note that we'll also be using a lower-res version of the MNIST data used in the KNN homework. The class below will load, parse, and store the subset of the. Load the data and then report: \n",
    "\n",
    "- The number of examples in the training set \n",
    "- The number of examples in the validation set \n",
    "- The number of pixels in each image. "
   ]
  },
  {
   "cell_type": "code",
   "execution_count": 2,
   "metadata": {
    "ExecuteTime": {
     "end_time": "2018-04-02T09:58:18.840016Z",
     "start_time": "2018-04-02T09:58:18.805889Z"
    },
    "collapsed": true
   },
   "outputs": [],
   "source": [
    "class ThreesAndEights:\n",
    "    \"\"\"\n",
    "    Class to store MNIST data\n",
    "    \"\"\"\n",
    "\n",
    "    def __init__(self, location):\n",
    "\n",
    "        import pickle, gzip\n",
    "\n",
    "        # Load the dataset\n",
    "        f = gzip.open(location, 'rb')\n",
    "\n",
    "        # Split the data set \n",
    "        X_train, y_train, X_valid, y_valid = pickle.load(f)\n",
    "\n",
    "        # Extract only 3's and 8's for training set \n",
    "        self.X_train = X_train[np.logical_or( y_train==3, y_train == 8), :]\n",
    "        self.y_train = y_train[np.logical_or( y_train==3, y_train == 8)]\n",
    "        self.y_train = np.array([1 if y == 8 else -1 for y in self.y_train])\n",
    "        \n",
    "        # Shuffle the training data \n",
    "        shuff = np.arange(self.X_train.shape[0])\n",
    "#         print(shuff, type(shuff), shuff.shape)\n",
    "        np.random.shuffle(shuff)\n",
    "        self.X_train = self.X_train[shuff,:]\n",
    "        self.y_train = self.y_train[shuff]\n",
    "\n",
    "        # Extract only 3's and 8's for validation set \n",
    "        self.X_valid = X_valid[np.logical_or( y_valid==3, y_valid == 8), :]\n",
    "        self.y_valid = y_valid[np.logical_or( y_valid==3, y_valid == 8)]\n",
    "        self.y_valid = np.array([1 if y == 8 else -1 for y in self.y_valid])\n",
    "        \n",
    "        f.close()"
   ]
  },
  {
   "cell_type": "code",
   "execution_count": 3,
   "metadata": {
    "ExecuteTime": {
     "end_time": "2018-04-02T09:58:19.740678Z",
     "start_time": "2018-04-02T09:58:19.609721Z"
    }
   },
   "outputs": [],
   "source": [
    "data = ThreesAndEights(\"../data/mnist21x21_3789.pklz\")"
   ]
  },
  {
   "cell_type": "code",
   "execution_count": 4,
   "metadata": {},
   "outputs": [
    {
     "name": "stdout",
     "output_type": "stream",
     "text": [
      "There are 2000 examples in the training set\n",
      "There are 500 examples in the validation set\n",
      "There are 441 pixels in the image, i.e. 21.0 x 21.0 pixels\n"
     ]
    }
   ],
   "source": [
    "print('There are {} examples in the training set'.format(data.X_train.shape[0]))\n",
    "print('There are {} examples in the validation set'.format(data.X_valid.shape[0]))\n",
    "print('There are {} pixels in the image, i.e. {} x {} pixels'.format(data.X_valid.shape[1],\n",
    "                                                        np.sqrt(data.X_valid.shape[1]), \n",
    "                                                        np.sqrt(data.X_valid.shape[1])))"
   ]
  },
  {
   "cell_type": "markdown",
   "metadata": {},
   "source": [
    "### [20 points] Problem 2: Implementing AdaBoost  \n",
    "***\n",
    "\n",
    "We've given you a skeleton of the class `AdaBoost` below which will train a classifier based on boosted shallow decision trees as implemented by sklearn. Take a look at the class skeleton first so that you understand the underlying organization and data structures that we'll be using.  "
   ]
  },
  {
   "cell_type": "code",
   "execution_count": 45,
   "metadata": {
    "ExecuteTime": {
     "end_time": "2018-04-02T09:58:23.101470Z",
     "start_time": "2018-04-02T09:58:23.016833Z"
    }
   },
   "outputs": [],
   "source": [
    "class AdaBoost:\n",
    "    def __init__(self, n_learners=20, max_depth=1, random_state=1234):\n",
    "        \"\"\"\n",
    "        Create a new adaboost classifier.\n",
    "        \n",
    "        Args:\n",
    "            N (int, optional): Number of weak learners in classifier.\n",
    "            base (BaseEstimator, optional): Your general weak learner \n",
    "            random_state (int, optional): set random generator.  needed for unit testing. \n",
    "\n",
    "        Attributes:\n",
    "            base (estimator): Your general weak learner \n",
    "            n_learners (int): Number of weak learners in classifier.\n",
    "            alpha (ndarray): Coefficients on weak learners. \n",
    "            learners (list): List of weak learner instances. \n",
    "        \"\"\"\n",
    "        \n",
    "        np.random.seed(random_state)\n",
    "        \n",
    "        self.n_learners = n_learners \n",
    "        self.base = DecisionTreeClassifier(max_depth=max_depth)\n",
    "        self.alpha = np.zeros(self.n_learners)\n",
    "        self.learners = []\n",
    "        self.scores = []\n",
    "        \n",
    "    def fit(self, X_train, y_train):\n",
    "        \"\"\"\n",
    "        Train AdaBoost classifier on data. Sets alphas and learners. \n",
    "        \n",
    "        Args:\n",
    "            X_train (ndarray): [n_samples x n_features] ndarray of training data   \n",
    "            y_train (ndarray): [n_samples] ndarray of data \n",
    "        \"\"\"\n",
    "        \n",
    "        for learner in range(self.n_learners):\n",
    "            if learner == 0:\n",
    "                w = np.ones(len(y_train))/len(y_train)\n",
    "            \n",
    "            # Create a new weak learner\n",
    "            h = clone(self.base)\n",
    "            \n",
    "            # Fit weak learner using full training set and weights\n",
    "            h.fit(X_train, y_train, sample_weight=w)\n",
    "            \n",
    "            # Extract predicted values and compare to true values\n",
    "            predicted = h.predict(X_train)\n",
    "            incorrect = predicted != y_train\n",
    "            \n",
    "            # Calculate the weighted error and alpha\n",
    "            err_k = sum(incorrect*w)/sum(w)\n",
    "            alpha_k = 0.5*np.log((1-err_k)/err_k)\n",
    "            \n",
    "            # Update w vector and normalize\n",
    "            w = w*np.exp(-alpha_k*predicted*y_train)\n",
    "            w = w/(sum(w))\n",
    "            \n",
    "            # Append weak learner to list of weak learners\n",
    "            self.learners.append(h)\n",
    "            \n",
    "            # Append alpha to alphas array\n",
    "            self.alpha[learner] = alpha_k\n",
    "        \n",
    "    def predict(self, X, learning = False, margins = False):\n",
    "        \"\"\"\n",
    "        Adaboost prediction for new data X.\n",
    "        \n",
    "        Args:\n",
    "            X (ndarray): [n_samples x n_features] ndarray of data \n",
    "            \n",
    "        Returns: \n",
    "            yhat (ndarray): [n_samples] ndarray of predicted labels {-1,1}\n",
    "        \"\"\"\n",
    "        # List for storing alpha-weighted predictions\n",
    "        y_hats = []\n",
    "        \n",
    "        if not learning:\n",
    "            learners = self.learners\n",
    "        else:\n",
    "            learners = learning\n",
    "            \n",
    "        # iterate over all learners and create alpha-weighted predictions\n",
    "        for learner in range(len(learners)):\n",
    "            y_hat = learners[learner].predict(X)\n",
    "            alpha_y_hat = self.alpha[learner]*y_hat\n",
    "            y_hats.append(alpha_y_hat)\n",
    "        \n",
    "        # Transform into np array\n",
    "        y_hats = np.array(y_hats)\n",
    "        \n",
    "        # Perform element-wise sum (i.e. for each training example)\n",
    "        # of alpha-weighted predictions\n",
    "        if not margins:\n",
    "            y_hats = np.sum(y_hats, axis=0)\n",
    "            \n",
    "        # Determine sign of summed predictions and assign class\n",
    "        y_hats = np.where(y_hats>0, 1, -1)\n",
    "        return y_hats\n",
    "    \n",
    "    def score(self, X, y, learning = False):\n",
    "\n",
    "        \"\"\"\n",
    "        Computes prediction accuracy of classifier.  \n",
    "        \n",
    "        Args:\n",
    "            X (ndarray): [n_samples x n_features] ndarray of data \n",
    "            y (ndarray): [n_samples] ndarray of true labels  \n",
    "            \n",
    "        Returns: \n",
    "            Prediction accuracy (between 0.0 and 1.0).\n",
    "        \"\"\"\n",
    "        \n",
    "        return sum(self.predict(X, learning) == y)/len(y)\n",
    "        \n",
    "    \n",
    "    def staged_score(self, X, y, learning = False):\n",
    "        \"\"\"\n",
    "        Computes the ensemble score after each iteration of boosting \n",
    "        for monitoring purposes, such as to determine the score on a \n",
    "        test set after each boost.\n",
    "        \n",
    "        Args:\n",
    "            X (ndarray): [n_samples x n_features] ndarray of data \n",
    "            y (ndarray): [n_samples] ndarray of true labels  \n",
    "            \n",
    "        Returns: \n",
    "            scores (ndarary): [n_learners] ndarray of scores \n",
    "        \"\"\"\n",
    "        if not learning:\n",
    "            learners = self.learners\n",
    "        else:\n",
    "            learners = learning\n",
    "        scores = np.zeros_like(learners)\n",
    "        for learner in range(len(learners)):\n",
    "            scores[learner] = self.score(X, y, learners[0:learner+1])\n",
    "        return scores\n",
    "\n",
    "    def staged_margin(self, x, y):\n",
    "        \"\"\"\n",
    "        Computes the staged margin after each iteration of boosting \n",
    "        for a single training example x and true label y\n",
    "        \n",
    "        Args:\n",
    "            x (ndarray): [n_features] ndarray of data \n",
    "            y (integer): an integer {-1,1} representing the true label of x \n",
    "            \n",
    "        Returns: \n",
    "            margins (ndarary): [n_learners] ndarray of margins \n",
    "        \"\"\"\n",
    "        margins = np.zeros_like(self.learners)\n",
    "        for learner in range(len(self.learners)):\n",
    "            alphas = self.alpha[0:learner+1]\n",
    "            alpha_hat = alphas/sum(alphas)\n",
    "            predictions = self.predict(x, learning = self.learners[0:learner+1], margins = True)\n",
    "            correct = predictions == y\n",
    "            incorrect = predictions != y\n",
    "            margins[learner] = sum(alphas.reshape(-1,1)[correct]) - sum(alphas.reshape(-1,1)[incorrect])\n",
    "       \n",
    "        return margins\n",
    "        \n",
    "        \n",
    "        "
   ]
  },
  {
   "cell_type": "code",
   "execution_count": null,
   "metadata": {},
   "outputs": [],
   "source": [
    "n_learners=50\n",
    "a = AdaBoost(n_learners=n_learners)\n",
    "a.fit(data.X_train, data.y_train)\n",
    "margins = a.staged_margin(data.X_valid[0].reshape(-1,441), data.y_valid[0])"
   ]
  },
  {
   "cell_type": "markdown",
   "metadata": {},
   "source": [
    "Recall that the model we attempt to learn in AdaBoost is given by \n",
    "\n",
    "$$\n",
    "H({\\bf x}) = \\textrm{sign}\\left[\\displaystyle\\sum_{k=1}^K\\alpha_k h_k({\\bf x}) \\right]\n",
    "$$\n",
    "\n",
    "where $h_k({\\bf x})$ is the $k^\\textrm{th}$ weak learner and $\\alpha_k$ is it's associated ensemble coefficient.  \n",
    "\n",
    "**Part A**: Implement the `fit` method to learn the sequence of weak learners $\\left\\{h_k({\\bf x})\\right\\}_{k=1}^K$ and corresponding coefficients $\\left\\{ \\alpha_k\\right\\}_{k=1}^K$. Note that you may use sklearn's implementation of DecisionTreeClassifier as your weak learner which allows you to pass as an optional parameter the weights associated with each training example.  An example of instantiating and training a single learner is given in the comments of the `fit` method.  \n",
    "\n",
    "When you think you're done, run the following unit tests which corresponds to the AdaBoost example given in the lecture slides. \n"
   ]
  },
  {
   "cell_type": "code",
   "execution_count": 46,
   "metadata": {
    "ExecuteTime": {
     "end_time": "2018-04-02T09:58:25.957948Z",
     "start_time": "2018-04-02T09:58:25.948471Z"
    }
   },
   "outputs": [
    {
     "name": "stderr",
     "output_type": "stream",
     "text": [
      "test_alphas (__main__.TestBoost) ... ok\n",
      "\n",
      "----------------------------------------------------------------------\n",
      "Ran 1 test in 0.006s\n",
      "\n",
      "OK\n"
     ]
    },
    {
     "data": {
      "text/plain": [
       "<matplotlib.figure.Figure at 0x116d00898>"
      ]
     },
     "metadata": {},
     "output_type": "display_data"
    }
   ],
   "source": [
    "%run -i tests.py \"part A\""
   ]
  },
  {
   "cell_type": "markdown",
   "metadata": {},
   "source": [
    "**Part B**: After your `fit` method is working properly, implement the `predict` method to make predictions for unseen examples stored in a data matrix ${\\bf X}$.  \n",
    "\n",
    "**Note**: Remember that AdaBoost assumes that your predictions are of the form $y \\in \\{-1, 1\\}$. \n",
    "\n",
    "When you think you're done, run the following unit tests which corresponds to the AdaBoost example given in the lecture slides. "
   ]
  },
  {
   "cell_type": "code",
   "execution_count": 47,
   "metadata": {
    "ExecuteTime": {
     "end_time": "2018-04-02T09:58:29.697855Z",
     "start_time": "2018-04-02T09:58:29.689876Z"
    }
   },
   "outputs": [
    {
     "name": "stderr",
     "output_type": "stream",
     "text": [
      "test_prediction (__main__.TestBoost) ... ok\n",
      "\n",
      "----------------------------------------------------------------------\n",
      "Ran 1 test in 0.006s\n",
      "\n",
      "OK\n"
     ]
    }
   ],
   "source": [
    "%run -i tests.py \"part B\""
   ]
  },
  {
   "cell_type": "markdown",
   "metadata": {},
   "source": [
    "**Part C**: Next, implement the `score` method which takes in a matrix of examples ${\\bf X}$ and their associated true labels ${\\bf y}$, makes predictions, and returns the classification accuracy.   \n",
    "\n",
    "When you think you're done, run the following unit tests. "
   ]
  },
  {
   "cell_type": "code",
   "execution_count": 48,
   "metadata": {
    "ExecuteTime": {
     "end_time": "2018-04-02T09:58:32.327702Z",
     "start_time": "2018-04-02T09:58:32.320424Z"
    }
   },
   "outputs": [
    {
     "name": "stderr",
     "output_type": "stream",
     "text": [
      "test_score (__main__.TestBoost) ... ok\n",
      "\n",
      "----------------------------------------------------------------------\n",
      "Ran 1 test in 0.007s\n",
      "\n",
      "OK\n"
     ]
    }
   ],
   "source": [
    "%run -i tests.py \"part C\""
   ]
  },
  {
   "cell_type": "markdown",
   "metadata": {},
   "source": [
    "**Part D**: Finally, implement the `staged_score` method to return an array of prediction accuracies after each iteration of the AdaBoost algorithm.  That is, the staged score array ${\\bf s}$ is defined such that ${\\bf s}_\\ell$ is the prediction accuracy using only the first $\\ell$ weak learners.  This function is primarily used as a diagnostic tool for analyzing the performance of your classifier during the training process.  \n",
    "\n",
    "**Note**: This method can be implemented in a very efficient or very **in**efficient matter.  Be sure to think about this a bit before diving in. \n",
    "\n",
    "\n",
    "When you think you're done, run the following unit tests. "
   ]
  },
  {
   "cell_type": "code",
   "execution_count": 49,
   "metadata": {
    "ExecuteTime": {
     "end_time": "2018-04-02T09:58:36.952096Z",
     "start_time": "2018-04-02T09:58:36.944919Z"
    }
   },
   "outputs": [
    {
     "name": "stderr",
     "output_type": "stream",
     "text": [
      "test_staged_score (__main__.TestBoost) ... ok\n",
      "\n",
      "----------------------------------------------------------------------\n",
      "Ran 1 test in 0.008s\n",
      "\n",
      "OK\n"
     ]
    }
   ],
   "source": [
    "%run -i tests.py \"part D\""
   ]
  },
  {
   "cell_type": "markdown",
   "metadata": {},
   "source": [
    "### [10 points] Problem 3: AdaBoost for Handwritten Digit Recognition \n",
    "***\n",
    "\n",
    "Use your AdaBoost code with Sklearn's DecisionTreeClassifier as the base learner to distinguish $3$'s from $8$'s. \n",
    "Run $n=500$ boosting iterations with trees of depths 1, 2, and 3 (go deeper if you like) as the weak learner. For each weak learner, plot the training and validation error per boosting iteration (on the same set of axes). Compare and contrast the different weak learners. Which works the best? Do you see signs of overfitting? Do any of classifiers achieve nearly 100% accuracy on the training data? What happens to the accuracy on the validation data on further iterations?"
   ]
  },
  {
   "cell_type": "code",
   "execution_count": null,
   "metadata": {},
   "outputs": [],
   "source": [
    "depths = [1,2,3]\n",
    "\n",
    "training_acc = {}\n",
    "validation_acc = {}\n",
    "n_learners = 500\n",
    "for depth in depths:\n",
    "    validation_scores = []\n",
    "    a = AdaBoost(n_learners=n_learners, max_depth=depth)\n",
    "    a.fit(data.X_train, data.y_train)\n",
    "    training_acc[depth] = a.staged_score(data.X_train, data.y_train)\n",
    "    validation_acc[depth] = a.staged_score(data.X_valid, data.y_valid)\n",
    "    print('Completed depth: {}'.format(depth))"
   ]
  },
  {
   "cell_type": "code",
   "execution_count": null,
   "metadata": {},
   "outputs": [],
   "source": [
    "learner_array = np.arange(1,n_learners+1)\n",
    "fig, ax = plt.subplots(nrows=1, ncols=1, sharex=True, figsize=(15,5))\n",
    "training_labels = ['Depth: ' + str(key) + ' Training' for key in training_acc.keys()]\n",
    "testing_labels = ['Depth: ' + str(key) + ' Validation' for key in training_acc.keys()]\n",
    "labels = training_labels + testing_labels\n",
    "\n",
    "ax.plot(learner_array, training_acc[1], color=\"green\", alpha = 0.5)\n",
    "ax.plot(learner_array, training_acc[2], color = \"dodgerblue\", alpha = 0.5)\n",
    "ax.plot(learner_array, training_acc[3], color = \"dimgray\", alpha = 0.5)\n",
    "\n",
    "ax.plot(learner_array, validation_acc[1], color=\"green\")\n",
    "ax.plot(learner_array, validation_acc[2], color = \"dodgerblue\")\n",
    "ax.plot(learner_array, validation_acc[3], color = \"dimgray\")\n",
    "\n",
    "ax.set_xlabel('Number of Learners', fontsize=16)\n",
    "ax.set_ylabel('Accuracy', fontsize=16)\n",
    "ax.legend(labels)\n",
    "ax.grid(alpha=0.25)"
   ]
  },
  {
   "cell_type": "markdown",
   "metadata": {},
   "source": [
    "**Answer:**  \n",
    "For all three weak learners, the training accuracy reaches 100%, although it happens in less than 50 learners for trees of depth 2 and 3, and not until about 250 learners for depth 1.  On all sets, there are continual improvements on the testing set much after the training set has reached 100% accuracy, one of the interesting characteristics of boosted trees.  Trees of depth 2 have the highest accuracy on the validation data, reaching just over 98% accuracy.  While the accuracy of the models seems to plateau at a certain point, there is no point at which overfitting occurs as model complexity increases."
   ]
  },
  {
   "cell_type": "markdown",
   "metadata": {},
   "source": [
    "### [15 points] Problem 4: AdaBoost as a Margin-Maximizing Model \n",
    "***\n",
    "\n",
    "Despite the fact that we're making our model more complex with the addition of each weak learner, AdaBoost does not typically overfit the training data. The reason for this is that the model becomes more _confident_ with each boosting iteration. This _confidence_ can be interpreted mathematically as a margin. Recall that after $K$ iterations the algorithm terminates with the classifier \n",
    "\n",
    "$$\n",
    "H({\\bf x}) = \\textrm{sign}\\left[\\displaystyle\\sum_{k=1}^K\\alpha_k h_k({\\bf x}) \\right]\n",
    "$$\n",
    "\n",
    "Similarly, we can define the intermediate classifier $H_\\ell$ by \n",
    "\n",
    "$$\n",
    "H_\\ell({\\bf x}) = \\textrm{sign}\\left[\\displaystyle\\sum_{k=1}^\\ell\\alpha_k h_k({\\bf x}) \\right]\n",
    "$$\n",
    "\n",
    "where $\\ell \\leq K$. Note that in either case the model returns predictions of the form $y \\in \\{-1, 1\\}$ which does not give us any indication of the model's confidence in a prediction. Define the normalized coefficients $\\hat{\\alpha}_k$ as follows: \n",
    "\n",
    "$$\n",
    "\\hat{\\alpha}_k = \\dfrac{\\alpha_k}{\\sum_{t=1}^K \\alpha_k}\n",
    "$$\n",
    "\n",
    "Define the margin of a training example ${\\bf x}$ after $\\ell$ iterations as the sum of the normalized coefficients of weak learners that vote correctly minus the sum of the normalized coefficients of the weak learners that vote incorrectly: \n",
    "\n",
    "$$\n",
    "\\textrm{margin}_\\ell ({\\bf x}) = \\sum_{k=1:~h_k({\\bf x}) = y}^\\ell \\hat{\\alpha}_k - \\sum_{k=1:~h_k({\\bf x}) \\neq y}^\\ell \\hat{\\alpha}_k \n",
    "$$\n",
    "\n",
    "**Part A**: Briefly explain mathematically how $\\textrm{margin}_\\ell({\\bf x})$ can be interpreted as a margin.  **Hint**: You'll want to think back on what we meant by a _margin_ in our discussion of Support Vector Machines. "
   ]
  },
  {
   "cell_type": "markdown",
   "metadata": {
    "collapsed": true
   },
   "source": [
    "**Answer:**  \n",
    "In SVMs, the margin is a measure of the distance from the decision hyperplane to a point on either side of the hyperplane.  The points defining the margin are the support vectors, and these points are the ones we are least confident about.  As the distance of a point from this hyperplane increases, our confidence in the correct classification of that point increases.  \n",
    "\n",
    "In this context, $\\textrm{margin}_\\ell({\\bf x})$, the value of the normalized coefficient for each learner is large if that learner was a good learner, and small if the learner was a bad learner.  Thinking about a two learner boosted model: \n",
    "\n",
    "\n",
    "| learner | $\\alpha$   | $x_{correct}$   | margin |\n",
    "|---------|------------|---------------|--------|\n",
    "| [1,2]   | [0.1, 0.9] | [True, True]  | 1      |\n",
    "| [1,2]   | [0.1, 0.9] | [True, False] | -0.8   |\n",
    "| [1,2]   | [0.1, 0.9] | [False, True] | 0.8    |\n",
    "| [1,2]   | [0.1, 0.9] | [False, False | -1     |\n",
    "\n",
    "We can see that $\\alpha_2$ is a strong learner and $\\alpha_1$ is a weak learner.  If our weak learner makes an incorrect classification, but our strong learner makes a correct classification, the margin is still large and positive, i.e. we are still overall confident that this was a correct classification.  A large positive margin means we are very confident in the correct classification of the data point, whereas a large negative margin means we are not confident in the correct classification of the data point."
   ]
  },
  {
   "cell_type": "markdown",
   "metadata": {},
   "source": [
    "**Part B**: Complete the `staged_margin` method in the `AdaBoost` class above so that it computes the margin for a single training example ${\\bf x}$ after each boosting iteration. "
   ]
  },
  {
   "cell_type": "markdown",
   "metadata": {
    "collapsed": true
   },
   "source": [
    "**ANSWER:**  \n",
    "See function"
   ]
  },
  {
   "cell_type": "markdown",
   "metadata": {},
   "source": [
    "**Part C**: Find four **training** examples from the MNIST that meet the following criteria: \n",
    "\n",
    "- one $3$ that AdaBoost can classify easily  \n",
    "- one $8$ that AdaBoost can classify easily  \n",
    "- one $3$ that AdaBoost has difficulty with \n",
    "- one $8$ that AdaBoost has difficulty with \n",
    "\n",
    "Use the `view_digit` function given below to display the four examples that you found. \n",
    "\n",
    "**Advice**: Since AdaBoost will likely classify **all** training examples correctly given enough boosting iterations, you might try fitting an AdaBoost classifier with just a handful of boosting iterations and use it to identify examples of each desired type. "
   ]
  },
  {
   "cell_type": "code",
   "execution_count": 10,
   "metadata": {},
   "outputs": [],
   "source": [
    "n_learners=50\n",
    "max_depth = 1\n",
    "a = AdaBoost(n_learners=n_learners, max_depth=max_depth)\n",
    "a.fit(data.X_train, data.y_train)"
   ]
  },
  {
   "cell_type": "code",
   "execution_count": 11,
   "metadata": {
    "collapsed": true
   },
   "outputs": [],
   "source": [
    "margins = np.zeros((data.X_valid.shape[0], n_learners))\n",
    "\n",
    "# extract the margins for each data point over all boosting iterations\n",
    "for point in range(len(data.X_valid)):\n",
    "    margins[point] = a.staged_margin(data.X_valid[point].reshape(-1,441), data.y_valid[point])"
   ]
  },
  {
   "cell_type": "code",
   "execution_count": 12,
   "metadata": {},
   "outputs": [],
   "source": [
    "# spearate threes and eights from validation data\n",
    "x_threes = data.X_valid[data.y_valid == -1]\n",
    "y_threes = data.y_valid[data.y_valid == -1]\n",
    "\n",
    "x_eights = data.X_valid[data.y_valid == 1]\n",
    "y_eights = data.y_valid[data.y_valid == 1]\n",
    "\n",
    "# separate threes and eights in margins\n",
    "three_margins = margins[data.y_valid == -1]\n",
    "eight_margins = margins[data.y_valid == 1]\n",
    "\n",
    "# Sum the margins over all learners and select the best and worst for each class\n",
    "three_worst_index = np.argmin(np.sum(three_margins, axis = 1))\n",
    "three_best_index = np.argmax(np.sum(three_margins, axis = 1))\n",
    "eight_worst_index = np.argmin(np.sum(eight_margins, axis = 1))\n",
    "eight_best_index = np.argmax(np.sum(eight_margins, axis = 1))"
   ]
  },
  {
   "cell_type": "code",
   "execution_count": 13,
   "metadata": {
    "ExecuteTime": {
     "end_time": "2018-04-02T09:59:01.257421Z",
     "start_time": "2018-04-02T09:59:01.068539Z"
    }
   },
   "outputs": [],
   "source": [
    "def view_digit(example, label=None):\n",
    "    if label: print(\"true label: {:d}\".format(label))\n",
    "    plt.imshow(example.reshape(21,21), cmap='gray');"
   ]
  },
  {
   "cell_type": "code",
   "execution_count": 14,
   "metadata": {},
   "outputs": [
    {
     "name": "stdout",
     "output_type": "stream",
     "text": [
      "true label: -1\n"
     ]
    },
    {
     "data": {
      "image/png": "[encoded data removed]",
      "text/plain": [
       "<matplotlib.figure.Figure at 0x10f189ba8>"
      ]
     },
     "metadata": {},
     "output_type": "display_data"
    }
   ],
   "source": [
    "# Minimum margin on 3 classifier\n",
    "view_digit(x_threes[three_worst_index,:], y_threes[three_worst_index])"
   ]
  },
  {
   "cell_type": "code",
   "execution_count": 15,
   "metadata": {},
   "outputs": [
    {
     "name": "stdout",
     "output_type": "stream",
     "text": [
      "true label: -1\n"
     ]
    },
    {
     "data": {
      "image/png": "[encoded data removed]",
      "text/plain": [
       "<matplotlib.figure.Figure at 0x112291828>"
      ]
     },
     "metadata": {},
     "output_type": "display_data"
    }
   ],
   "source": [
    "# Maximum margin on 3 classifier\n",
    "view_digit(x_threes[three_best_index,:], y_threes[three_best_index])"
   ]
  },
  {
   "cell_type": "code",
   "execution_count": 16,
   "metadata": {},
   "outputs": [
    {
     "name": "stdout",
     "output_type": "stream",
     "text": [
      "true label: 1\n"
     ]
    },
    {
     "data": {
      "image/png": "[encoded data removed]",
      "text/plain": [
       "<matplotlib.figure.Figure at 0x116373198>"
      ]
     },
     "metadata": {},
     "output_type": "display_data"
    }
   ],
   "source": [
    "# Minimum margin on 8 classifier\n",
    "view_digit(x_eights[eight_worst_index,:], y_eights[eight_worst_index])"
   ]
  },
  {
   "cell_type": "code",
   "execution_count": 17,
   "metadata": {},
   "outputs": [
    {
     "name": "stdout",
     "output_type": "stream",
     "text": [
      "true label: 1\n"
     ]
    },
    {
     "data": {
      "image/png": "[encoded data removed]",
      "text/plain": [
       "<matplotlib.figure.Figure at 0x116517cc0>"
      ]
     },
     "metadata": {},
     "output_type": "display_data"
    }
   ],
   "source": [
    "# Maximum margin on 8 classifier\n",
    "view_digit(x_eights[eight_best_index,:], y_eights[eight_best_index])"
   ]
  },
  {
   "cell_type": "markdown",
   "metadata": {},
   "source": [
    "**Part D**: Using an AdaBoost classifier with at least $K=200$ depth-1 decision trees as the weak learners, plot the staged margin for each of the four examples that you found in **Part C** on the same set of axes. (Be sure to include a legend so we can tell which staged margin corresponds to which example).  Explain your results in terms of the margin of the classifier on each training examples.  More broadly, how the margin-maximizing property might allow AdaBoost to continue improving generalization even after the error on the training set reaches zero.  \n"
   ]
  },
  {
   "cell_type": "code",
   "execution_count": 18,
   "metadata": {},
   "outputs": [],
   "source": [
    "learners = 200\n",
    "new_booster = AdaBoost(n_learners=learners)\n",
    "new_booster.fit(data.X_train, data.y_train)"
   ]
  },
  {
   "cell_type": "code",
   "execution_count": 19,
   "metadata": {},
   "outputs": [],
   "source": [
    "margins = np.zeros((data.X_valid.shape[0], learners))\n",
    "\n",
    "# extract the margins for each data point over all boosting iterations\n",
    "for point in range(len(data.X_valid)):\n",
    "    margins[point] = new_booster.staged_margin(data.X_valid[point].reshape(-1,441), data.y_valid[point])"
   ]
  },
  {
   "cell_type": "code",
   "execution_count": 44,
   "metadata": {},
   "outputs": [
    {
     "data": {
      "image/png": "[encoded data removed]",
      "text/plain": [
       "<matplotlib.figure.Figure at 0x1169dde80>"
      ]
     },
     "metadata": {},
     "output_type": "display_data"
    }
   ],
   "source": [
    "# separate margins by classes (threes and eights)\n",
    "three_margins = margins[data.y_valid == -1]\n",
    "eight_margins = margins[data.y_valid == 1]\n",
    "\n",
    "# Create array for x axis\n",
    "x = np.arange(0,learners)\n",
    "labels = ['three_worst', 'three_best', 'eight_worst', 'eight_best']\n",
    "\n",
    "# keep indices from previous problem and plot\n",
    "fig, ax = plt.subplots(nrows=1, ncols=1, sharex=True, figsize = (15,5))\n",
    "ax.plot(x, three_margins[three_worst_index], color=\"green\", alpha = 0.5)\n",
    "ax.plot(x, three_margins[three_best_index], color=\"green\")\n",
    "ax.plot(x, eight_margins[eight_worst_index], color=\"dodgerblue\", alpha = 0.5)\n",
    "ax.plot(x, eight_margins[eight_best_index], color=\"dodgerblue\")\n",
    "ax.set_xlabel('Number of Learners', fontsize=16)\n",
    "ax.set_ylabel('Margin', fontsize=16)\n",
    "ax.legend(labels)\n",
    "ax.grid(alpha=0.25)"
   ]
  },
  {
   "cell_type": "markdown",
   "metadata": {},
   "source": [
    "Explain your results in terms of the margin of the classifier on each training examples.  More broadly, how the margin-maximizing property might allow AdaBoost to continue improving generalization even after the error on the training set reaches zero."
   ]
  },
  {
   "cell_type": "markdown",
   "metadata": {},
   "source": [
    "**Answer:**  \n",
    "We can see that for the two training examples that the algorithm performed poorly on, while the margin decreases semi-quickly at first, actually begins to increase again near n_learners = 100 and stay semi stagnant.  The margin maximizing characteristic basically ensures that the algorithm will always be trying to increase the overall confidence for every training example, and not learning just to minimize the number of misclassifications overall."
   ]
  }
 ],
 "metadata": {
  "kernelspec": {
   "display_name": "Python 3",
   "language": "python",
   "name": "python3"
  },
  "language_info": {
   "codemirror_mode": {
    "name": "ipython",
    "version": 3
   },
   "file_extension": ".py",
   "mimetype": "text/x-python",
   "name": "python",
   "nbconvert_exporter": "python",
   "pygments_lexer": "ipython3",
   "version": "3.6.3"
  }
 },
 "nbformat": 4,
 "nbformat_minor": 2
}
